{
 "cells": [
  {
   "cell_type": "markdown",
   "metadata": {
    "colab_type": "text",
    "id": "2g8Hwt9d0t92"
   },
   "source": [
    "# Multivariate Time Series Forecasting with Keras and TensorFlow\n",
    "\n",
    "\n",
    "continued from Notebook 01\n",
    "\n",
    "\n",
    "\n",
    "## 02. Gated Recurrent Unit (GRU) RNN Model Implementation\n",
    "\n",
    "\n",
    "### Contents\n",
    "\n",
    "* read data and check -- plot random intervals \n",
    "* split data\n",
    "* scale data\n",
    "* Data Generator helper function\n",
    "* validation set\n",
    "* Create the GRU Model\n",
    "* Custom loss (MSE) function\n",
    "* Compile the model\n",
    "* Callback functions -- optimize LR, record checkpoints\n",
    "* Train the Recurrent Neural Network\n",
    "* Load checkpoint, in case of early stop\n",
    "* Performance on Test set\n",
    "* Generate predictions\n",
    "\n",
    "\n",
    "Technical Note: It's recommended to run this Notebook 02 in Colab or locally w/ CUDA GPU."
   ]
  },
  {
   "cell_type": "code",
   "execution_count": 1,
   "metadata": {},
   "outputs": [],
   "source": [
    "import numpy as np"
   ]
  },
  {
   "cell_type": "code",
   "execution_count": 2,
   "metadata": {
    "colab": {},
    "colab_type": "code",
    "id": "CSHdHVDP0t96"
   },
   "outputs": [],
   "source": [
    "import pandas as pd"
   ]
  },
  {
   "cell_type": "code",
   "execution_count": 3,
   "metadata": {},
   "outputs": [],
   "source": [
    "import tensorflow as tf"
   ]
  },
  {
   "cell_type": "code",
   "execution_count": 4,
   "metadata": {},
   "outputs": [
    {
     "data": {
      "text/plain": [
       "'2.5.0'"
      ]
     },
     "execution_count": 4,
     "metadata": {},
     "output_type": "execute_result"
    }
   ],
   "source": [
    "tf.__version__"
   ]
  },
  {
   "cell_type": "code",
   "execution_count": 5,
   "metadata": {},
   "outputs": [
    {
     "data": {
      "text/plain": [
       "'1.19.5'"
      ]
     },
     "execution_count": 5,
     "metadata": {},
     "output_type": "execute_result"
    }
   ],
   "source": [
    "np.__version__"
   ]
  },
  {
   "cell_type": "code",
   "execution_count": 6,
   "metadata": {},
   "outputs": [
    {
     "data": {
      "text/plain": [
       "'1.3.0'"
      ]
     },
     "execution_count": 6,
     "metadata": {},
     "output_type": "execute_result"
    }
   ],
   "source": [
    "pd.__version__\n"
   ]
  },
  {
   "cell_type": "code",
   "execution_count": 7,
   "metadata": {
    "colab": {},
    "colab_type": "code",
    "id": "p0qs8Lh10t99"
   },
   "outputs": [],
   "source": [
    "%matplotlib inline\n",
    "import matplotlib.pyplot as plt\n",
    "from sklearn.preprocessing import MinMaxScaler"
   ]
  },
  {
   "cell_type": "code",
   "execution_count": 127,
   "metadata": {
    "colab": {
     "base_uri": "https://localhost:8080/",
     "height": 124
    },
    "colab_type": "code",
    "id": "Og26q76Z2QfN",
    "outputId": "f9024bc1-419d-4430-ef21-8642fa69368d"
   },
   "outputs": [],
   "source": [
    "#from google.colab import drive\n",
    "#drive.mount(\"/content/gdrive\")\n",
    "\n",
    "\n",
    "#from google.colab import files\n",
    "#files.download('cp.ckpt')"
   ]
  },
  {
   "cell_type": "code",
   "execution_count": 8,
   "metadata": {
    "colab": {},
    "colab_type": "code",
    "id": "9srtk21m2nEv"
   },
   "outputs": [
    {
     "name": "stdout",
     "output_type": "stream",
     "text": [
      " Volume in drive C has no label.\n",
      " Volume Serial Number is 5CF4-4F8B\n",
      "\n",
      " Directory of C:\\Users\\DantchOg\\dev\\ML_engineer_nd009_capstone\n",
      "\n",
      "20.07.2021 Ј.  17:13    <DIR>          .\n",
      "20.07.2021 Ј.  17:13    <DIR>          ..\n",
      "20.07.2021 Ј.  10:22    <DIR>          .ipynb_checkpoints\n",
      "19.07.2021 Ј.  13:36           228я866 01_Prepare_the_dataset.ipynb\n",
      "20.07.2021 Ј.  16:16           494я471 02_GRU_RNN_model.ipynb\n",
      "14.12.2018 Ј.  13:36           548я606 03_DCCNN_model.ipynb\n",
      "19.07.2021 Ј.  13:29       176я839я904 3138627798433dat.txt\n",
      "30.11.2018 Ј.  08:41        15я897я354 3138627798433dat.txt.zip\n",
      "01.12.2018 Ј.  17:27            26я458 3138627798433inv.txt\n",
      "01.12.2018 Ј.  16:51               914 3138627798433stn.txt\n",
      "20.07.2021 Ј.  13:55    <DIR>          logs\n",
      "01.12.2018 Ј.  18:56             5я630 noaa_ncei_data.txt\n",
      "02.07.2021 Ј.  15:59            20я535 project.docx\n",
      "02.07.2021 Ј.  15:48             5я843 project.md\n",
      "02.07.2021 Ј.  15:59           135я962 project.pdf\n",
      "20.07.2021 Ј.  16:41             3я156 t1.py\n",
      "20.07.2021 Ј.  17:13             3я083 Untitled.ipynb\n",
      "19.07.2021 Ј.  13:33        23я235я776 weather.npy\n",
      "19.07.2021 Ј.  13:36        22я501я564 weather_VAR_SOF1\n",
      "19.07.2021 Ј.  13:20    <DIR>          __MACOSX\n",
      "              15 File(s)    239я948я122 bytes\n",
      "               5 Dir(s)  406я654я582я784 bytes free\n"
     ]
    }
   ],
   "source": [
    "#!ls {\"/home/o/Documents\"} # for the dl1\n",
    "#!ls {\"/Users/oggy/Documents/dl101\"} # for the MacBook Pro\n",
    "!dir"
   ]
  },
  {
   "cell_type": "markdown",
   "metadata": {},
   "source": []
  },
  {
   "cell_type": "code",
   "execution_count": 9,
   "metadata": {
    "colab": {},
    "colab_type": "code",
    "id": "iwb8f8zm19sg"
   },
   "outputs": [],
   "source": [
    "# read from PC, current \n",
    "test2 = pd.read_pickle(r\"C:\\Users\\DantchOg\\dev\\ML_engineer_nd009_capstone\\weather_VAR_SOF1\")\n",
    "\n",
    "# read from DL1 PC\n",
    "#test2 = pd.read_pickle(\"/home/o/Documents/weather_VAR_SOF\")\n",
    "\n",
    "# read from MacBook Pro\n",
    "#test2 = pd.read_pickle(\"/Users/oggy/Documents/dl101/weather_VAR_SOF\")\n",
    "\n",
    "# read from Google Drive\n",
    "#test2 = pd.read_pickle(\"/content/gdrive/My Drive/weather_VAR_SOF\")\n",
    "\n",
    "\n",
    "#with open('/content/gdrive/My Drive/test', 'r') as f:\n",
    "#  f.write('Hello Google Drive!')"
   ]
  },
  {
   "cell_type": "code",
   "execution_count": 10,
   "metadata": {
    "colab": {
     "base_uri": "https://localhost:8080/",
     "height": 269
    },
    "colab_type": "code",
    "id": "qTeOW7jS5GAY",
    "outputId": "48952155-d284-4893-d806-d24be441ef22"
   },
   "outputs": [
    {
     "data": {
      "text/html": [
       "<div>\n",
       "<style scoped>\n",
       "    .dataframe tbody tr th:only-of-type {\n",
       "        vertical-align: middle;\n",
       "    }\n",
       "\n",
       "    .dataframe tbody tr th {\n",
       "        vertical-align: top;\n",
       "    }\n",
       "\n",
       "    .dataframe thead tr th {\n",
       "        text-align: left;\n",
       "    }\n",
       "\n",
       "    .dataframe thead tr:last-of-type th {\n",
       "        text-align: right;\n",
       "    }\n",
       "</style>\n",
       "<table border=\"1\" class=\"dataframe\">\n",
       "  <thead>\n",
       "    <tr>\n",
       "      <th></th>\n",
       "      <th colspan=\"2\" halign=\"left\">Varna</th>\n",
       "      <th colspan=\"2\" halign=\"left\">Sofia</th>\n",
       "      <th colspan=\"2\" halign=\"left\">Various</th>\n",
       "    </tr>\n",
       "    <tr>\n",
       "      <th></th>\n",
       "      <th>Temp, C</th>\n",
       "      <th>SLP, hPa</th>\n",
       "      <th>Temp, C</th>\n",
       "      <th>SLP, hPa</th>\n",
       "      <th>Day</th>\n",
       "      <th>Hour</th>\n",
       "    </tr>\n",
       "    <tr>\n",
       "      <th>Date_Time</th>\n",
       "      <th></th>\n",
       "      <th></th>\n",
       "      <th></th>\n",
       "      <th></th>\n",
       "      <th></th>\n",
       "      <th></th>\n",
       "    </tr>\n",
       "  </thead>\n",
       "  <tbody>\n",
       "    <tr>\n",
       "      <th>1973-01-01 00:00:00</th>\n",
       "      <td>-2.780000</td>\n",
       "      <td>1046.300000</td>\n",
       "      <td>-3.89</td>\n",
       "      <td>1047.100000</td>\n",
       "      <td>1</td>\n",
       "      <td>0</td>\n",
       "    </tr>\n",
       "    <tr>\n",
       "      <th>1973-01-01 01:00:00</th>\n",
       "      <td>-3.520000</td>\n",
       "      <td>1046.266667</td>\n",
       "      <td>-3.89</td>\n",
       "      <td>1047.133333</td>\n",
       "      <td>1</td>\n",
       "      <td>1</td>\n",
       "    </tr>\n",
       "    <tr>\n",
       "      <th>1973-01-01 02:00:00</th>\n",
       "      <td>-4.260000</td>\n",
       "      <td>1046.233333</td>\n",
       "      <td>-3.89</td>\n",
       "      <td>1047.166667</td>\n",
       "      <td>1</td>\n",
       "      <td>2</td>\n",
       "    </tr>\n",
       "    <tr>\n",
       "      <th>1973-01-01 03:00:00</th>\n",
       "      <td>-5.000000</td>\n",
       "      <td>1046.200000</td>\n",
       "      <td>-3.89</td>\n",
       "      <td>1047.200000</td>\n",
       "      <td>1</td>\n",
       "      <td>3</td>\n",
       "    </tr>\n",
       "    <tr>\n",
       "      <th>1973-01-01 04:00:00</th>\n",
       "      <td>-3.981667</td>\n",
       "      <td>1046.566667</td>\n",
       "      <td>-5.00</td>\n",
       "      <td>1047.466667</td>\n",
       "      <td>1</td>\n",
       "      <td>4</td>\n",
       "    </tr>\n",
       "  </tbody>\n",
       "</table>\n",
       "</div>"
      ],
      "text/plain": [
       "                        Varna                Sofia              Various     \n",
       "                      Temp, C     SLP, hPa Temp, C     SLP, hPa     Day Hour\n",
       "Date_Time                                                                   \n",
       "1973-01-01 00:00:00 -2.780000  1046.300000   -3.89  1047.100000       1    0\n",
       "1973-01-01 01:00:00 -3.520000  1046.266667   -3.89  1047.133333       1    1\n",
       "1973-01-01 02:00:00 -4.260000  1046.233333   -3.89  1047.166667       1    2\n",
       "1973-01-01 03:00:00 -5.000000  1046.200000   -3.89  1047.200000       1    3\n",
       "1973-01-01 04:00:00 -3.981667  1046.566667   -5.00  1047.466667       1    4"
      ]
     },
     "execution_count": 10,
     "metadata": {},
     "output_type": "execute_result"
    }
   ],
   "source": [
    "test2.head()"
   ]
  },
  {
   "cell_type": "code",
   "execution_count": 11,
   "metadata": {
    "colab": {
     "base_uri": "https://localhost:8080/",
     "height": 308
    },
    "colab_type": "code",
    "id": "c9hpbQ5-0t_q",
    "outputId": "ddca7490-c2a1-4369-8125-7e8f1352617d"
   },
   "outputs": [
    {
     "data": {
      "text/plain": [
       "<AxesSubplot:xlabel='Date_Time'>"
      ]
     },
     "execution_count": 11,
     "metadata": {},
     "output_type": "execute_result"
    },
    {
     "data": {
      "image/png": "[encoded data removed]",
      "text/plain": [
       "<Figure size 432x288 with 1 Axes>"
      ]
     },
     "metadata": {
      "needs_background": "light"
     },
     "output_type": "display_data"
    }
   ],
   "source": [
    "test2[\"Sofia\"][\"Temp, C\"]['2014-01':'2014-12'].plot()"
   ]
  },
  {
   "cell_type": "code",
   "execution_count": 12,
   "metadata": {
    "colab": {
     "base_uri": "https://localhost:8080/",
     "height": 308
    },
    "colab_type": "code",
    "id": "igXbqL850t_t",
    "outputId": "c6e01a77-c2b5-4b4d-86a8-8091ec8325df"
   },
   "outputs": [
    {
     "data": {
      "text/plain": [
       "<AxesSubplot:xlabel='Date_Time'>"
      ]
     },
     "execution_count": 12,
     "metadata": {},
     "output_type": "execute_result"
    },
    {
     "data": {
      "image/png": "[encoded data removed]",
      "text/plain": [
       "<Figure size 432x288 with 1 Axes>"
      ]
     },
     "metadata": {
      "needs_background": "light"
     },
     "output_type": "display_data"
    }
   ],
   "source": [
    "test2[\"Sofia\"][\"Temp, C\"]['2017-01':'2017-12'].plot()"
   ]
  },
  {
   "cell_type": "code",
   "execution_count": 13,
   "metadata": {
    "colab": {
     "base_uri": "https://localhost:8080/",
     "height": 308
    },
    "colab_type": "code",
    "id": "oaahufXB0t_v",
    "outputId": "240b54eb-3310-419b-8017-ee6f3910f4ba"
   },
   "outputs": [
    {
     "data": {
      "text/plain": [
       "<AxesSubplot:xlabel='Date_Time'>"
      ]
     },
     "execution_count": 13,
     "metadata": {},
     "output_type": "execute_result"
    },
    {
     "data": {
      "image/png": "[encoded data removed]",
      "text/plain": [
       "<Figure size 432x288 with 1 Axes>"
      ]
     },
     "metadata": {
      "needs_background": "light"
     },
     "output_type": "display_data"
    }
   ],
   "source": [
    "test2[\"Sofia\"][\"SLP, hPa\"]['2013-01':'2013-12'].plot()"
   ]
  },
  {
   "cell_type": "code",
   "execution_count": 14,
   "metadata": {
    "colab": {
     "base_uri": "https://localhost:8080/",
     "height": 331
    },
    "colab_type": "code",
    "id": "O1EZkz8a0t_2",
    "outputId": "858a0b40-475c-4007-a387-371511d8fa8d"
   },
   "outputs": [
    {
     "data": {
      "text/plain": [
       "<AxesSubplot:xlabel='Date_Time'>"
      ]
     },
     "execution_count": 14,
     "metadata": {},
     "output_type": "execute_result"
    },
    {
     "data": {
      "image/png": "[encoded data removed]",
      "text/plain": [
       "<Figure size 432x288 with 1 Axes>"
      ]
     },
     "metadata": {
      "needs_background": "light"
     },
     "output_type": "display_data"
    }
   ],
   "source": [
    "test2[\"Sofia\"][\"Temp, C\"]['2017-01-01':'2017-01-30'].plot()"
   ]
  },
  {
   "cell_type": "code",
   "execution_count": 15,
   "metadata": {
    "colab": {
     "base_uri": "https://localhost:8080/",
     "height": 225
    },
    "colab_type": "code",
    "id": "sB4GqJOi0t_6",
    "outputId": "3f3ed91c-7a65-4072-95a3-7ebf59d036bf"
   },
   "outputs": [
    {
     "name": "stdout",
     "output_type": "stream",
     "text": [
      "<class 'pandas.core.frame.DataFrame'>\n",
      "DatetimeIndex: 401784 entries, 1973-01-01 00:00:00 to 2018-11-01 23:00:00\n",
      "Freq: 60T\n",
      "Data columns (total 6 columns):\n",
      " #   Column             Non-Null Count   Dtype  \n",
      "---  ------             --------------   -----  \n",
      " 0   (Varna, Temp, C)   401784 non-null  float64\n",
      " 1   (Varna, SLP, hPa)  401784 non-null  float64\n",
      " 2   (Sofia, Temp, C)   401784 non-null  float64\n",
      " 3   (Sofia, SLP, hPa)  401784 non-null  float64\n",
      " 4   (Various, Day)     401784 non-null  int64  \n",
      " 5   (Various, Hour)    401784 non-null  int64  \n",
      "dtypes: float64(4), int64(2)\n",
      "memory usage: 29.5 MB\n"
     ]
    }
   ],
   "source": [
    "test2.info()"
   ]
  },
  {
   "cell_type": "code",
   "execution_count": 16,
   "metadata": {
    "colab": {},
    "colab_type": "code",
    "id": "TXl8jQzq0uAs"
   },
   "outputs": [],
   "source": [
    "target_city = \"Sofia\""
   ]
  },
  {
   "cell_type": "code",
   "execution_count": 17,
   "metadata": {
    "colab": {},
    "colab_type": "code",
    "id": "Ievcl5I00uAv"
   },
   "outputs": [],
   "source": [
    "target_names = [\"Temp, C\"]"
   ]
  },
  {
   "cell_type": "code",
   "execution_count": 18,
   "metadata": {
    "colab": {},
    "colab_type": "code",
    "id": "AUk2_t9u0uAw"
   },
   "outputs": [],
   "source": [
    "shift_days = 3\n",
    "shift_steps = shift_days * 24  # Number of hours."
   ]
  },
  {
   "cell_type": "code",
   "execution_count": 19,
   "metadata": {
    "colab": {},
    "colab_type": "code",
    "id": "KdWmDWRe0uAy"
   },
   "outputs": [],
   "source": [
    "df_targets = test2[target_city][target_names].shift(-shift_steps)"
   ]
  },
  {
   "cell_type": "code",
   "execution_count": 20,
   "metadata": {
    "colab": {
     "base_uri": "https://localhost:8080/",
     "height": 2055
    },
    "colab_type": "code",
    "id": "OeSJCr490uA2",
    "outputId": "61728072-f4c1-49b4-d785-498ab6d137f7",
    "scrolled": true
   },
   "outputs": [
    {
     "data": {
      "text/html": [
       "<div>\n",
       "<style scoped>\n",
       "    .dataframe tbody tr th:only-of-type {\n",
       "        vertical-align: middle;\n",
       "    }\n",
       "\n",
       "    .dataframe tbody tr th {\n",
       "        vertical-align: top;\n",
       "    }\n",
       "\n",
       "    .dataframe thead tr th {\n",
       "        text-align: left;\n",
       "    }\n",
       "\n",
       "    .dataframe thead tr:last-of-type th {\n",
       "        text-align: right;\n",
       "    }\n",
       "</style>\n",
       "<table border=\"1\" class=\"dataframe\">\n",
       "  <thead>\n",
       "    <tr>\n",
       "      <th></th>\n",
       "      <th colspan=\"2\" halign=\"left\">Varna</th>\n",
       "      <th colspan=\"2\" halign=\"left\">Sofia</th>\n",
       "      <th colspan=\"2\" halign=\"left\">Various</th>\n",
       "    </tr>\n",
       "    <tr>\n",
       "      <th></th>\n",
       "      <th>Temp, C</th>\n",
       "      <th>SLP, hPa</th>\n",
       "      <th>Temp, C</th>\n",
       "      <th>SLP, hPa</th>\n",
       "      <th>Day</th>\n",
       "      <th>Hour</th>\n",
       "    </tr>\n",
       "    <tr>\n",
       "      <th>Date_Time</th>\n",
       "      <th></th>\n",
       "      <th></th>\n",
       "      <th></th>\n",
       "      <th></th>\n",
       "      <th></th>\n",
       "      <th></th>\n",
       "    </tr>\n",
       "  </thead>\n",
       "  <tbody>\n",
       "    <tr>\n",
       "      <th>1973-01-01 00:00:00</th>\n",
       "      <td>-2.780000</td>\n",
       "      <td>1046.300000</td>\n",
       "      <td>-3.89</td>\n",
       "      <td>1047.100000</td>\n",
       "      <td>1</td>\n",
       "      <td>0</td>\n",
       "    </tr>\n",
       "    <tr>\n",
       "      <th>1973-01-01 01:00:00</th>\n",
       "      <td>-3.520000</td>\n",
       "      <td>1046.266667</td>\n",
       "      <td>-3.89</td>\n",
       "      <td>1047.133333</td>\n",
       "      <td>1</td>\n",
       "      <td>1</td>\n",
       "    </tr>\n",
       "    <tr>\n",
       "      <th>1973-01-01 02:00:00</th>\n",
       "      <td>-4.260000</td>\n",
       "      <td>1046.233333</td>\n",
       "      <td>-3.89</td>\n",
       "      <td>1047.166667</td>\n",
       "      <td>1</td>\n",
       "      <td>2</td>\n",
       "    </tr>\n",
       "    <tr>\n",
       "      <th>1973-01-01 03:00:00</th>\n",
       "      <td>-5.000000</td>\n",
       "      <td>1046.200000</td>\n",
       "      <td>-3.89</td>\n",
       "      <td>1047.200000</td>\n",
       "      <td>1</td>\n",
       "      <td>3</td>\n",
       "    </tr>\n",
       "    <tr>\n",
       "      <th>1973-01-01 04:00:00</th>\n",
       "      <td>-3.981667</td>\n",
       "      <td>1046.566667</td>\n",
       "      <td>-5.00</td>\n",
       "      <td>1047.466667</td>\n",
       "      <td>1</td>\n",
       "      <td>4</td>\n",
       "    </tr>\n",
       "    <tr>\n",
       "      <th>...</th>\n",
       "      <td>...</td>\n",
       "      <td>...</td>\n",
       "      <td>...</td>\n",
       "      <td>...</td>\n",
       "      <td>...</td>\n",
       "      <td>...</td>\n",
       "    </tr>\n",
       "    <tr>\n",
       "      <th>1973-01-03 19:00:00</th>\n",
       "      <td>1.850000</td>\n",
       "      <td>1027.933333</td>\n",
       "      <td>0.00</td>\n",
       "      <td>1028.433333</td>\n",
       "      <td>3</td>\n",
       "      <td>19</td>\n",
       "    </tr>\n",
       "    <tr>\n",
       "      <th>1973-01-03 20:00:00</th>\n",
       "      <td>1.480000</td>\n",
       "      <td>1027.866667</td>\n",
       "      <td>0.00</td>\n",
       "      <td>1028.366667</td>\n",
       "      <td>3</td>\n",
       "      <td>20</td>\n",
       "    </tr>\n",
       "    <tr>\n",
       "      <th>1973-01-03 21:00:00</th>\n",
       "      <td>1.110000</td>\n",
       "      <td>1027.800000</td>\n",
       "      <td>0.00</td>\n",
       "      <td>1028.300000</td>\n",
       "      <td>3</td>\n",
       "      <td>21</td>\n",
       "    </tr>\n",
       "    <tr>\n",
       "      <th>1973-01-03 22:00:00</th>\n",
       "      <td>1.110000</td>\n",
       "      <td>1027.733333</td>\n",
       "      <td>0.00</td>\n",
       "      <td>1028.100000</td>\n",
       "      <td>3</td>\n",
       "      <td>22</td>\n",
       "    </tr>\n",
       "    <tr>\n",
       "      <th>1973-01-03 23:00:00</th>\n",
       "      <td>1.110000</td>\n",
       "      <td>1027.666667</td>\n",
       "      <td>0.00</td>\n",
       "      <td>1027.900000</td>\n",
       "      <td>3</td>\n",
       "      <td>23</td>\n",
       "    </tr>\n",
       "  </tbody>\n",
       "</table>\n",
       "<p>72 rows × 6 columns</p>\n",
       "</div>"
      ],
      "text/plain": [
       "                        Varna                Sofia              Various     \n",
       "                      Temp, C     SLP, hPa Temp, C     SLP, hPa     Day Hour\n",
       "Date_Time                                                                   \n",
       "1973-01-01 00:00:00 -2.780000  1046.300000   -3.89  1047.100000       1    0\n",
       "1973-01-01 01:00:00 -3.520000  1046.266667   -3.89  1047.133333       1    1\n",
       "1973-01-01 02:00:00 -4.260000  1046.233333   -3.89  1047.166667       1    2\n",
       "1973-01-01 03:00:00 -5.000000  1046.200000   -3.89  1047.200000       1    3\n",
       "1973-01-01 04:00:00 -3.981667  1046.566667   -5.00  1047.466667       1    4\n",
       "...                       ...          ...     ...          ...     ...  ...\n",
       "1973-01-03 19:00:00  1.850000  1027.933333    0.00  1028.433333       3   19\n",
       "1973-01-03 20:00:00  1.480000  1027.866667    0.00  1028.366667       3   20\n",
       "1973-01-03 21:00:00  1.110000  1027.800000    0.00  1028.300000       3   21\n",
       "1973-01-03 22:00:00  1.110000  1027.733333    0.00  1028.100000       3   22\n",
       "1973-01-03 23:00:00  1.110000  1027.666667    0.00  1027.900000       3   23\n",
       "\n",
       "[72 rows x 6 columns]"
      ]
     },
     "execution_count": 20,
     "metadata": {},
     "output_type": "execute_result"
    }
   ],
   "source": [
    "test2.head(72)"
   ]
  },
  {
   "cell_type": "code",
   "execution_count": 21,
   "metadata": {
    "colab": {
     "base_uri": "https://localhost:8080/",
     "height": 238
    },
    "colab_type": "code",
    "id": "qh01-NMk0uA4",
    "outputId": "948db6ff-bf78-4429-ff4c-311f90e4853c"
   },
   "outputs": [
    {
     "data": {
      "text/html": [
       "<div>\n",
       "<style scoped>\n",
       "    .dataframe tbody tr th:only-of-type {\n",
       "        vertical-align: middle;\n",
       "    }\n",
       "\n",
       "    .dataframe tbody tr th {\n",
       "        vertical-align: top;\n",
       "    }\n",
       "\n",
       "    .dataframe thead th {\n",
       "        text-align: right;\n",
       "    }\n",
       "</style>\n",
       "<table border=\"1\" class=\"dataframe\">\n",
       "  <thead>\n",
       "    <tr style=\"text-align: right;\">\n",
       "      <th></th>\n",
       "      <th>Temp, C</th>\n",
       "    </tr>\n",
       "    <tr>\n",
       "      <th>Date_Time</th>\n",
       "      <th></th>\n",
       "    </tr>\n",
       "  </thead>\n",
       "  <tbody>\n",
       "    <tr>\n",
       "      <th>2018-11-01 19:00:00</th>\n",
       "      <td>NaN</td>\n",
       "    </tr>\n",
       "    <tr>\n",
       "      <th>2018-11-01 20:00:00</th>\n",
       "      <td>NaN</td>\n",
       "    </tr>\n",
       "    <tr>\n",
       "      <th>2018-11-01 21:00:00</th>\n",
       "      <td>NaN</td>\n",
       "    </tr>\n",
       "    <tr>\n",
       "      <th>2018-11-01 22:00:00</th>\n",
       "      <td>NaN</td>\n",
       "    </tr>\n",
       "    <tr>\n",
       "      <th>2018-11-01 23:00:00</th>\n",
       "      <td>NaN</td>\n",
       "    </tr>\n",
       "  </tbody>\n",
       "</table>\n",
       "</div>"
      ],
      "text/plain": [
       "                     Temp, C\n",
       "Date_Time                   \n",
       "2018-11-01 19:00:00      NaN\n",
       "2018-11-01 20:00:00      NaN\n",
       "2018-11-01 21:00:00      NaN\n",
       "2018-11-01 22:00:00      NaN\n",
       "2018-11-01 23:00:00      NaN"
      ]
     },
     "execution_count": 21,
     "metadata": {},
     "output_type": "execute_result"
    }
   ],
   "source": [
    "df_targets.tail()"
   ]
  },
  {
   "cell_type": "code",
   "execution_count": 142,
   "metadata": {
    "colab": {},
    "colab_type": "code",
    "id": "q68uX3Lf0uA6"
   },
   "outputs": [],
   "source": [
    "#NumPy Arrays"
   ]
  },
  {
   "cell_type": "code",
   "execution_count": 22,
   "metadata": {
    "colab": {},
    "colab_type": "code",
    "id": "4-P1SQLq0uA7"
   },
   "outputs": [],
   "source": [
    "x_data = test2.values[0:-shift_steps]"
   ]
  },
  {
   "cell_type": "code",
   "execution_count": 23,
   "metadata": {
    "colab": {
     "base_uri": "https://localhost:8080/",
     "height": 52
    },
    "colab_type": "code",
    "id": "750caTK10uA_",
    "outputId": "e3a1acfe-8c0e-4b36-d5bf-42e9acce4906"
   },
   "outputs": [
    {
     "name": "stdout",
     "output_type": "stream",
     "text": [
      "<class 'numpy.ndarray'>\n",
      "Shape: (401712, 6)\n"
     ]
    }
   ],
   "source": [
    "print(type(x_data))\n",
    "print(\"Shape:\", x_data.shape)"
   ]
  },
  {
   "cell_type": "code",
   "execution_count": 24,
   "metadata": {
    "colab": {},
    "colab_type": "code",
    "id": "AHwgHEPe0uBF"
   },
   "outputs": [],
   "source": [
    "y_data = df_targets.values[:-shift_steps]"
   ]
  },
  {
   "cell_type": "code",
   "execution_count": 25,
   "metadata": {
    "colab": {
     "base_uri": "https://localhost:8080/",
     "height": 52
    },
    "colab_type": "code",
    "id": "OEPUkwUJ0uBH",
    "outputId": "d561b4cd-642d-4c45-d4d4-a1fd68146190"
   },
   "outputs": [
    {
     "name": "stdout",
     "output_type": "stream",
     "text": [
      "<class 'numpy.ndarray'>\n",
      "Shape: (401712, 1)\n"
     ]
    }
   ],
   "source": [
    "print(type(y_data))\n",
    "print(\"Shape:\", y_data.shape)"
   ]
  },
  {
   "cell_type": "code",
   "execution_count": 26,
   "metadata": {
    "colab": {
     "base_uri": "https://localhost:8080/",
     "height": 69
    },
    "colab_type": "code",
    "id": "0Tdl1EHu0uBJ",
    "outputId": "e27ff6f3-c952-4a04-8cba-1e9edb2a72b2"
   },
   "outputs": [
    {
     "name": "stdout",
     "output_type": "stream",
     "text": [
      "401712\n",
      "361540\n",
      "40172\n"
     ]
    }
   ],
   "source": [
    "num_data = len(x_data)\n",
    "print(num_data)\n",
    "\n",
    "train_split = 0.9\n",
    "\n",
    "#This is the number of observations in the training-set:\n",
    "\n",
    "num_train = int(train_split * num_data)\n",
    "print(num_train)\n",
    "\n",
    "#This is the number of observations in the test-set:\n",
    "\n",
    "num_test = num_data - num_train\n",
    "print(num_test)"
   ]
  },
  {
   "cell_type": "code",
   "execution_count": 27,
   "metadata": {
    "colab": {
     "base_uri": "https://localhost:8080/",
     "height": 52
    },
    "colab_type": "code",
    "id": "We2KSO9r0uBL",
    "outputId": "3715a88f-4a02-452c-daa8-4e110d306e72"
   },
   "outputs": [
    {
     "name": "stdout",
     "output_type": "stream",
     "text": [
      "6\n",
      "1\n"
     ]
    }
   ],
   "source": [
    "#This is the number of input-signals:\n",
    "\n",
    "num_x_signals = x_data.shape[1]\n",
    "print(num_x_signals)\n",
    "\n",
    "#This is the number of output-signals:\n",
    "\n",
    "num_y_signals = y_data.shape[1]\n",
    "print(num_y_signals)"
   ]
  },
  {
   "cell_type": "code",
   "execution_count": 28,
   "metadata": {
    "colab": {
     "base_uri": "https://localhost:8080/",
     "height": 52
    },
    "colab_type": "code",
    "id": "8JYpLDlq0uBO",
    "outputId": "15cf84f4-1f51-4f77-812a-3d228b5de754"
   },
   "outputs": [
    {
     "name": "stdout",
     "output_type": "stream",
     "text": [
      "401712\n",
      "401712\n"
     ]
    }
   ],
   "source": [
    "#These are the input-signals for the training- and test-sets:\n",
    "\n",
    "x_train = x_data[0:num_train]\n",
    "x_test = x_data[num_train:]\n",
    "print(len(x_train) + len(x_test))\n",
    "\n",
    "#These are the output-signals for the training- and test-sets:\n",
    "\n",
    "y_train = y_data[0:num_train]\n",
    "y_test = y_data[num_train:]\n",
    "print(len(y_train) + len(y_test))"
   ]
  },
  {
   "cell_type": "markdown",
   "metadata": {
    "colab_type": "text",
    "id": "SUaq5SNT0uBQ"
   },
   "source": [
    "## Scale Data\n",
    "\n",
    "\n",
    "The data-set contains a wide range of values:"
   ]
  },
  {
   "cell_type": "code",
   "execution_count": 29,
   "metadata": {
    "colab": {
     "base_uri": "https://localhost:8080/",
     "height": 52
    },
    "colab_type": "code",
    "id": "_DTKGojA0uBQ",
    "outputId": "18c9c981-29b7-467e-d021-9bac0e088394"
   },
   "outputs": [
    {
     "name": "stdout",
     "output_type": "stream",
     "text": [
      "Min: -25.0\n",
      "Max: 1070.2\n"
     ]
    }
   ],
   "source": [
    "print(\"Min:\", np.min(x_train))\n",
    "print(\"Max:\", np.max(x_train))"
   ]
  },
  {
   "cell_type": "code",
   "execution_count": 30,
   "metadata": {
    "colab": {
     "base_uri": "https://localhost:8080/",
     "height": 52
    },
    "colab_type": "code",
    "id": "_EX0GysG0uBS",
    "outputId": "8679cdb5-6dd1-4ea9-a0f3-4e2c9af6d1eb"
   },
   "outputs": [
    {
     "name": "stdout",
     "output_type": "stream",
     "text": [
      "Min: 0.0\n",
      "Max: 1.0\n"
     ]
    }
   ],
   "source": [
    "#We first create a scaler-object for the input-signals.\n",
    "\n",
    "\n",
    "x_scaler = MinMaxScaler()\n",
    "\n",
    "#We then detect the range of values from the training-data and scale the training-data.\n",
    "\n",
    "x_train_scaled = x_scaler.fit_transform(x_train)\n",
    "\n",
    "#Apart from a small rounding-error, the data has been scaled to be between 0 and 1.\n",
    "print(\"Min:\", np.min(x_train_scaled))\n",
    "print(\"Max:\", np.max(x_train_scaled))\n"
   ]
  },
  {
   "cell_type": "code",
   "execution_count": 31,
   "metadata": {
    "colab": {},
    "colab_type": "code",
    "id": "5CCrh25J0uBU"
   },
   "outputs": [],
   "source": [
    "#We use the same scaler-object for the input-signals in the test-set.\n",
    "\n",
    "x_test_scaled = x_scaler.transform(x_test)\n",
    "x_test_scaled = x_scaler.transform(x_test)\n",
    "\n",
    "\n",
    "#The target-data comes from the same data-set as the input-signals, because it is the weather-data for one of the cities that is merely time-shifted. But the target-data could be from a different source with different value-ranges, so we create a separate scaler-object for the target-data.\n",
    "\n",
    "y_scaler = MinMaxScaler()\n",
    "y_train_scaled = y_scaler.fit_transform(y_train)\n",
    "y_test_scaled = y_scaler.transform(y_test)\n"
   ]
  },
  {
   "cell_type": "markdown",
   "metadata": {
    "colab_type": "text",
    "id": "SUEdkI7N0uBX"
   },
   "source": [
    "## Data Generator\n",
    "\n",
    "The data-set has now been prepared as 2-dimensional numpy arrays. The training-data has over 360k observations, consisting of 6 input signals and 1 output signal.\n",
    "\n",
    "These are the array-shapes of the input and output data:"
   ]
  },
  {
   "cell_type": "code",
   "execution_count": 32,
   "metadata": {
    "colab": {
     "base_uri": "https://localhost:8080/",
     "height": 52
    },
    "colab_type": "code",
    "id": "pszkQtRG0uBX",
    "outputId": "0d9bca74-e26b-4e10-8ebc-abac5fd7b810"
   },
   "outputs": [
    {
     "name": "stdout",
     "output_type": "stream",
     "text": [
      "(361540, 6)\n",
      "(361540, 1)\n"
     ]
    }
   ],
   "source": [
    "print(x_train_scaled.shape)\n",
    "print(y_train_scaled.shape)"
   ]
  },
  {
   "cell_type": "markdown",
   "metadata": {
    "colab_type": "text",
    "id": "mtNuSSfB0uBZ"
   },
   "source": [
    "Instead of training the Recurrent Neural Network on the complete sequences of almost 300k observations, we will use the following function to create a batch of shorter sub-sequences picked at random from the training-data."
   ]
  },
  {
   "cell_type": "code",
   "execution_count": 33,
   "metadata": {
    "colab": {},
    "colab_type": "code",
    "id": "c8WxFsC00uBa"
   },
   "outputs": [],
   "source": [
    "# batch generator function from from [2]\n",
    "def batch_generator(batch_size, sequence_length):\n",
    "    \"\"\"\n",
    "    Generator function for creating random batches of training-data.\n",
    "    \"\"\"\n",
    "\n",
    "    # Infinite loop.\n",
    "    while True:\n",
    "        # Allocate a new array for the batch of input-signals.\n",
    "        x_shape = (batch_size, sequence_length, num_x_signals)\n",
    "        x_batch = np.zeros(shape=x_shape, dtype=np.float16)\n",
    "\n",
    "        # Allocate a new array for the batch of output-signals.\n",
    "        y_shape = (batch_size, sequence_length, num_y_signals)\n",
    "        y_batch = np.zeros(shape=y_shape, dtype=np.float16)\n",
    "\n",
    "        # Fill the batch with random sequences of data.\n",
    "        for i in range(batch_size):\n",
    "            # Get a random start-index.\n",
    "            # This points somewhere into the training-data.\n",
    "            idx = np.random.randint(num_train - sequence_length)\n",
    "            \n",
    "            # Copy the sequences of data starting at this index.\n",
    "            x_batch[i] = x_train_scaled[idx:idx+sequence_length]\n",
    "            y_batch[i] = y_train_scaled[idx:idx+sequence_length]\n",
    "        \n",
    "        yield (x_batch, y_batch)"
   ]
  },
  {
   "cell_type": "code",
   "execution_count": 34,
   "metadata": {
    "colab": {
     "base_uri": "https://localhost:8080/",
     "height": 34
    },
    "colab_type": "code",
    "id": "SyB8tcuK0uBb",
    "outputId": "8b5b55cf-2751-4cb0-f40b-4c7ac8b29747"
   },
   "outputs": [
    {
     "name": "stdout",
     "output_type": "stream",
     "text": [
      "672\n"
     ]
    }
   ],
   "source": [
    "batch_size = 128 #256 #128\n",
    "\n",
    "# We will use a sequence-length of 1344, which means that each random sequence \n",
    "# contains observations for 8 weeks. One time-step corresponds to one hour, so \n",
    "# 24 x 7 time-steps corresponds to a week, and 24 x 7 x 8 corresponds to 8 weeks.\n",
    "\n",
    "sequence_length = 24 * 7 * 4  # 4 weeks  \n",
    "# 8 weeks\n",
    "\n",
    "print(sequence_length)"
   ]
  },
  {
   "cell_type": "code",
   "execution_count": 35,
   "metadata": {
    "colab": {},
    "colab_type": "code",
    "id": "2Q2S-WlE0uBe"
   },
   "outputs": [],
   "source": [
    "generator = batch_generator(batch_size=batch_size,\n",
    "                            sequence_length=sequence_length)"
   ]
  },
  {
   "cell_type": "code",
   "execution_count": 36,
   "metadata": {
    "colab": {},
    "colab_type": "code",
    "id": "G5Q3q-hj0uBg"
   },
   "outputs": [],
   "source": [
    "x_batch, y_batch = next(generator)"
   ]
  },
  {
   "cell_type": "code",
   "execution_count": 37,
   "metadata": {
    "colab": {
     "base_uri": "https://localhost:8080/",
     "height": 52
    },
    "colab_type": "code",
    "id": "8eNJNqwL0uBj",
    "outputId": "da0cecc8-661e-43cf-c66f-d7ab723c7feb"
   },
   "outputs": [
    {
     "name": "stdout",
     "output_type": "stream",
     "text": [
      "(128, 672, 6)\n",
      "(128, 672, 1)\n"
     ]
    }
   ],
   "source": [
    "print(x_batch.shape)\n",
    "print(y_batch.shape)"
   ]
  },
  {
   "cell_type": "code",
   "execution_count": 38,
   "metadata": {
    "colab": {
     "base_uri": "https://localhost:8080/",
     "height": 282
    },
    "colab_type": "code",
    "id": "i_OyRekG0uBl",
    "outputId": "284d6c96-5263-42fa-e68f-2c02a660e1c2"
   },
   "outputs": [
    {
     "data": {
      "text/plain": [
       "[<matplotlib.lines.Line2D at 0x1af381214f0>]"
      ]
     },
     "execution_count": 38,
     "metadata": {},
     "output_type": "execute_result"
    },
    {
     "data": {
      "image/png": "[encoded data removed]",
      "text/plain": [
       "<Figure size 432x288 with 1 Axes>"
      ]
     },
     "metadata": {
      "needs_background": "light"
     },
     "output_type": "display_data"
    }
   ],
   "source": [
    "batch = 0   # First sequence in the batch.\n",
    "signal = 0  # First signal from the 6 input-signals.\n",
    "seq = x_batch[batch, :, signal]\n",
    "plt.plot(seq)"
   ]
  },
  {
   "cell_type": "code",
   "execution_count": 39,
   "metadata": {
    "colab": {
     "base_uri": "https://localhost:8080/",
     "height": 282
    },
    "colab_type": "code",
    "id": "FJuSDzLH0uBq",
    "outputId": "a057e2df-5b98-45a4-a408-e51de95da472"
   },
   "outputs": [
    {
     "data": {
      "text/plain": [
       "[<matplotlib.lines.Line2D at 0x1af3816ffa0>]"
      ]
     },
     "execution_count": 39,
     "metadata": {},
     "output_type": "execute_result"
    },
    {
     "data": {
      "image/png": "[encoded data removed]",
      "text/plain": [
       "<Figure size 432x288 with 1 Axes>"
      ]
     },
     "metadata": {
      "needs_background": "light"
     },
     "output_type": "display_data"
    }
   ],
   "source": [
    "seq = y_batch[batch, :, signal]\n",
    "plt.plot(seq)"
   ]
  },
  {
   "cell_type": "markdown",
   "metadata": {
    "colab_type": "text",
    "id": "FUwocdjg0uBs"
   },
   "source": [
    "## Validation Set\n",
    "\n",
    "The neural network trains quickly so we can easily run many training epochs. But then there is a risk of overfitting the model to the training-set so it does not generalize well to unseen data. We will therefore monitor the model's performance on the test-set after each epoch and only save the model's weights if the performance is improved on the test-set.\n",
    "\n",
    "The batch-generator randomly selects a batch of short sequences from the training-data and uses that during training. But for the validation-data we will instead run through the entire sequence from the test-set and measure the prediction accuracy on that entire sequence."
   ]
  },
  {
   "cell_type": "code",
   "execution_count": 40,
   "metadata": {
    "colab": {},
    "colab_type": "code",
    "id": "PRHZlU5q0uBs"
   },
   "outputs": [],
   "source": [
    "validation_data = (np.expand_dims(x_test_scaled, axis=0),\n",
    "                   np.expand_dims(y_test_scaled, axis=0))"
   ]
  },
  {
   "cell_type": "markdown",
   "metadata": {
    "colab_type": "text",
    "id": "Z3LtRqFz0uBv"
   },
   "source": [
    "## Create the Model: Recurrent Neural Network\n",
    "\n",
    "Data is now ready to create the Recurrent Neural Network (RNN) Model. Keras API is used from TF"
   ]
  },
  {
   "cell_type": "code",
   "execution_count": 41,
   "metadata": {
    "colab": {},
    "colab_type": "code",
    "id": "hFD9c28L0uBw"
   },
   "outputs": [],
   "source": [
    "from tensorflow.keras.models import Sequential\n",
    "from tensorflow.keras.layers import Input, Dense, GRU, Embedding\n",
    "from tensorflow.keras.optimizers import RMSprop\n",
    "from tensorflow.keras.callbacks import EarlyStopping, ModelCheckpoint, TensorBoard, ReduceLROnPlateau\n",
    "\n",
    "from tensorflow.keras.backend import square, mean"
   ]
  },
  {
   "cell_type": "code",
   "execution_count": 42,
   "metadata": {
    "colab": {},
    "colab_type": "code",
    "id": "DXGGE6UE0uFi"
   },
   "outputs": [],
   "source": [
    "# import tensorflow as tf\n",
    "# moved that to the beginning\n",
    "import os"
   ]
  },
  {
   "cell_type": "code",
   "execution_count": 43,
   "metadata": {},
   "outputs": [
    {
     "data": {
      "text/plain": [
       "'2.5.0'"
      ]
     },
     "execution_count": 43,
     "metadata": {},
     "output_type": "execute_result"
    }
   ],
   "source": [
    "tf.__version__"
   ]
  },
  {
   "cell_type": "code",
   "execution_count": 44,
   "metadata": {},
   "outputs": [
    {
     "data": {
      "text/plain": [
       "'2.5.0'"
      ]
     },
     "execution_count": 44,
     "metadata": {},
     "output_type": "execute_result"
    }
   ],
   "source": [
    "tf.keras.__version__"
   ]
  },
  {
   "cell_type": "code",
   "execution_count": 45,
   "metadata": {},
   "outputs": [
    {
     "data": {
      "text/plain": [
       "'1.3.0'"
      ]
     },
     "execution_count": 45,
     "metadata": {},
     "output_type": "execute_result"
    }
   ],
   "source": [
    "pd.__version__"
   ]
  },
  {
   "cell_type": "code",
   "execution_count": 46,
   "metadata": {},
   "outputs": [
    {
     "data": {
      "text/plain": [
       "[PhysicalDevice(name='/physical_device:GPU:0', device_type='GPU')]"
      ]
     },
     "execution_count": 46,
     "metadata": {},
     "output_type": "execute_result"
    }
   ],
   "source": [
    "#tf.test.gpu_device_name()\n",
    "\n",
    "tf.config.list_physical_devices('GPU')"
   ]
  },
  {
   "cell_type": "code",
   "execution_count": 47,
   "metadata": {},
   "outputs": [
    {
     "data": {
      "text/plain": [
       "True"
      ]
     },
     "execution_count": 47,
     "metadata": {},
     "output_type": "execute_result"
    }
   ],
   "source": [
    " tf.test.is_built_with_cuda()"
   ]
  },
  {
   "cell_type": "code",
   "execution_count": 48,
   "metadata": {
    "colab": {},
    "colab_type": "code",
    "id": "RhLg2xmQ0uFj"
   },
   "outputs": [],
   "source": [
    "model = Sequential()"
   ]
  },
  {
   "cell_type": "code",
   "execution_count": 49,
   "metadata": {
    "colab": {},
    "colab_type": "code",
    "id": "7x9DnzV00uFm"
   },
   "outputs": [],
   "source": [
    "model.add(GRU(units=512,\n",
    "              return_sequences=True,\n",
    "              input_shape=(None, num_x_signals,)))"
   ]
  },
  {
   "cell_type": "code",
   "execution_count": 50,
   "metadata": {
    "colab": {},
    "colab_type": "code",
    "id": "yxlhrkcZ0uFo"
   },
   "outputs": [],
   "source": [
    "model.add(Dense(num_y_signals, activation=\"tanh\"))   #'sigmoid'))"
   ]
  },
  {
   "cell_type": "code",
   "execution_count": 51,
   "metadata": {
    "colab": {},
    "colab_type": "code",
    "id": "iiywenWU0uFp"
   },
   "outputs": [],
   "source": [
    "warmup_steps = 50\n",
    "def loss_mse_warmup(y_true, y_pred):\n",
    "    \"\"\"\n",
    "    Calculate the Mean Squared Error between y_true and y_pred,\n",
    "    but ignore the beginning \"warmup\" part of the sequences.\n",
    "    \n",
    "    y_true is the desired output.\n",
    "    y_pred is the model's output.\n",
    "    \"\"\"\n",
    "\n",
    "    # The shape of both input tensors are:\n",
    "    # [batch_size, sequence_length, num_y_signals].\n",
    "\n",
    "    # Ignore the \"warmup\" parts of the sequences\n",
    "    # by taking slices of the tensors.\n",
    "    y_true_slice = y_true[:, warmup_steps:, :]\n",
    "    y_pred_slice = y_pred[:, warmup_steps:, :]\n",
    "\n",
    "    # These sliced tensors both have this shape:\n",
    "    # [batch_size, sequence_length - warmup_steps, num_y_signals]\n",
    "\n",
    "# This was updated from TF 1 to 2    \n",
    "#     # Calculate the MSE loss for each value in these tensors.\n",
    "#     # This outputs a 3-rank tensor of the same shape.\n",
    "#     loss = tf.losses.mean_squared_error(labels=y_true_slice,\n",
    "#                                         predictions=y_pred_slice)\n",
    "\n",
    "#     # Keras may reduce this across the first axis (the batch)\n",
    "#     # but the semantics are unclear, so to be sure we use\n",
    "#     # the loss across the entire tensor, we reduce it to a\n",
    "#     # single scalar with the mean function.\n",
    "#     loss_mean = tf.reduce_mean(loss)\n",
    "\n",
    "#     return loss_mean\n",
    "\n",
    "    # Calculate the Mean Squared Error and use it as loss.\n",
    "    mse = mean(square(y_true_slice - y_pred_slice))\n",
    "    \n",
    "    return mse"
   ]
  },
  {
   "cell_type": "markdown",
   "metadata": {
    "colab_type": "text",
    "id": "mT_GYUY10uFq"
   },
   "source": [
    "## Compile model"
   ]
  },
  {
   "cell_type": "code",
   "execution_count": 52,
   "metadata": {
    "colab": {},
    "colab_type": "code",
    "id": "aGt8_hRK0uFr"
   },
   "outputs": [],
   "source": [
    "optimizer = RMSprop(learning_rate= 1e-3)\n",
    "\n",
    "\n",
    "#optimizer = tf.train.RMSPropOptimizer(learning_rate=1e-3)\n",
    "#try tf.train.RMSPropOptimizer \n",
    "#as I get this \n",
    "#WARNING:tensorflow:This model was compiled with a Keras optimizer \n",
    "#(<tensorflow.python.keras.optimizers.RMSprop object at 0x7f1430f445c0>) but is \n",
    "#being saved in TensorFlow format with `save_weights`. The model's weights will \n",
    "#be saved, but unlike with TensorFlow optimizers in the TensorFlow format the \n",
    "#optimizer's state will not be saved.\n",
    "#Consider using a TensorFlow optimizer from `tf.train`.\n",
    "\n",
    "#__init__(\n",
    "#    learning_rate,\n",
    "#    decay=0.9,\n",
    "#    momentum=0.0,\n",
    "#    epsilon=1e-10,\n",
    "#    use_locking=False,\n",
    "#    centered=False,\n",
    "#    name='RMSProp'\n",
    "#)\n",
    "# nope, that doesn't work with the callbacks later on..."
   ]
  },
  {
   "cell_type": "code",
   "execution_count": 53,
   "metadata": {
    "colab": {},
    "colab_type": "code",
    "id": "Uh79XK9d0uFs"
   },
   "outputs": [],
   "source": [
    "model.compile(loss=loss_mse_warmup, optimizer=optimizer)"
   ]
  },
  {
   "cell_type": "code",
   "execution_count": 54,
   "metadata": {
    "colab": {
     "base_uri": "https://localhost:8080/",
     "height": 208
    },
    "colab_type": "code",
    "id": "0bp2YawV0uFu",
    "outputId": "c34e270c-0622-4f4d-f22b-d844d1655980"
   },
   "outputs": [
    {
     "name": "stdout",
     "output_type": "stream",
     "text": [
      "Model: \"sequential\"\n",
      "_________________________________________________________________\n",
      "Layer (type)                 Output Shape              Param #   \n",
      "=================================================================\n",
      "gru (GRU)                    (None, None, 512)         798720    \n",
      "_________________________________________________________________\n",
      "dense (Dense)                (None, None, 1)           513       \n",
      "=================================================================\n",
      "Total params: 799,233\n",
      "Trainable params: 799,233\n",
      "Non-trainable params: 0\n",
      "_________________________________________________________________\n"
     ]
    }
   ],
   "source": [
    "model.summary()"
   ]
  },
  {
   "cell_type": "markdown",
   "metadata": {
    "colab_type": "text",
    "id": "RnJYIffy0uFw"
   },
   "source": [
    "### Callback Functions\n",
    "During training we want to save checkpoints and log the progress to TensorBoard so we create the appropriate callbacks for Keras.\n"
   ]
  },
  {
   "cell_type": "code",
   "execution_count": 55,
   "metadata": {
    "colab": {},
    "colab_type": "code",
    "id": "tHO96kQW0uFw"
   },
   "outputs": [],
   "source": [
    "#This is the callback for writing checkpoints during training.\n",
    "checkpoint_path = \"02_checkpoint.keras\" \n",
    "checkpoint_dir = os.path.dirname(checkpoint_path)\n",
    "# let's see if it really saves OK this time...\n",
    "\n",
    "#path_checkpoint = checkpoint_path\n",
    "callback_checkpoint = ModelCheckpoint(filepath= checkpoint_path,\n",
    "                                      monitor= 'val_loss',\n",
    "                                      verbose= 1,\n",
    "                                      save_weights_only= True,\n",
    "                                      save_best_only= True)\n",
    "\n",
    "#This is the callback for stopping the optimization when performance worsens on the validation-set.\n",
    "\n",
    "\n",
    "callback_early_stopping = EarlyStopping(monitor='val_loss',\n",
    "                                        patience=3, verbose=1)  # now that it trains -- my patience should be 3, not 5 \n",
    "\n",
    "#This is the callback for writing the TensorBoard log during training.\n",
    "\n",
    "\n",
    "callback_tensorboard = TensorBoard(log_dir='./logs/',\n",
    "                                   histogram_freq=0,\n",
    "                                   write_graph=False)\n",
    "\n",
    "#This callback reduces the learning-rate for the optimizer if the validation-loss has not improved since \n",
    "#the last epoch (as indicated by patience=0). The learning-rate will be reduced by multiplying it with \n",
    "#the given factor. We set a start learning-rate of 1e-3 above, so multiplying it by 0.1 gives a \n",
    "#learning-rate of 1e-4. We don't want the learning-rate to go any lower than this.\n",
    "\n",
    "\n",
    "callback_reduce_lr = ReduceLROnPlateau(monitor='val_loss',\n",
    "                                       factor=0.1,\n",
    "                                       min_lr=1e-4,\n",
    "                                       patience=0,\n",
    "                                       verbose=1)\n",
    "\n",
    "callbacks = [callback_early_stopping,\n",
    "             callback_checkpoint,\n",
    "             callback_tensorboard,\n",
    "             callback_reduce_lr]"
   ]
  },
  {
   "cell_type": "markdown",
   "metadata": {
    "colab_type": "text",
    "id": "BY3YsTV50uF1"
   },
   "source": [
    "## Train the Recurrent Neural Network\n",
    "\n",
    "We can now train the neural network.\n",
    "\n",
    "Note that a single \"epoch\" does not correspond to a single processing of the training-set, because of how the batch-generator randomly selects sub-sequences from the training-set. Instead we have selected `steps_per_epoch` so that one \"epoch\" is processed in a few minutes.\n",
    "\n",
    "With these settings, each \"epoch\" took about 7 minutes to process on Colab free GPU and about 4 on the DL1 PC with 4x GTX 1060.  After 16 \"epochs\" the optimization was stopped because the validation-loss had not decreased for 5 \"epochs\". This optimization took about 60 minutes to finish on Colab.\n",
    "\n",
    "> Also note that the loss sometimes becomes `NaN` (not-a-number). This is often resolved by restarting and running the Notebook again. But it may also be caused by your neural network architecture, learning-rate, batch-size, sequence-length, etc. in which case you may have to modify those settings.  [2]"
   ]
  },
  {
   "cell_type": "code",
   "execution_count": 56,
   "metadata": {
    "colab": {
     "base_uri": "https://localhost:8080/",
     "height": 1669
    },
    "colab_type": "code",
    "id": "5EWgoOLs0uF1",
    "outputId": "dcce2d4a-bd91-47de-c6a7-aef418041f61"
   },
   "outputs": [
    {
     "name": "stdout",
     "output_type": "stream",
     "text": [
      "Epoch 1/20\n",
      "100/100 [==============================] - 61s 577ms/step - loss: 0.0154 - val_loss: 0.0113\n",
      "\n",
      "Epoch 00001: val_loss improved from inf to 0.01128, saving model to 02_checkpoint.keras\n",
      "Epoch 2/20\n",
      "100/100 [==============================] - 58s 582ms/step - loss: 0.0069 - val_loss: 0.0084\n",
      "\n",
      "Epoch 00002: val_loss improved from 0.01128 to 0.00839, saving model to 02_checkpoint.keras\n",
      "Epoch 3/20\n",
      "100/100 [==============================] - 60s 598ms/step - loss: 0.0061 - val_loss: 0.0046\n",
      "\n",
      "Epoch 00003: val_loss improved from 0.00839 to 0.00464, saving model to 02_checkpoint.keras\n",
      "Epoch 4/20\n",
      "100/100 [==============================] - 60s 597ms/step - loss: 0.0056 - val_loss: 0.0060\n",
      "\n",
      "Epoch 00004: val_loss did not improve from 0.00464\n",
      "\n",
      "Epoch 00004: ReduceLROnPlateau reducing learning rate to 0.00010000000474974513.\n",
      "Epoch 5/20\n",
      "100/100 [==============================] - 60s 598ms/step - loss: 0.0041 - val_loss: 0.0038\n",
      "\n",
      "Epoch 00005: val_loss improved from 0.00464 to 0.00380, saving model to 02_checkpoint.keras\n",
      "Epoch 6/20\n",
      "100/100 [==============================] - 60s 597ms/step - loss: 0.0039 - val_loss: 0.0039\n",
      "\n",
      "Epoch 00006: val_loss did not improve from 0.00380\n",
      "\n",
      "Epoch 00006: ReduceLROnPlateau reducing learning rate to 0.0001.\n",
      "Epoch 7/20\n",
      "100/100 [==============================] - 60s 596ms/step - loss: 0.0039 - val_loss: 0.0038\n",
      "\n",
      "Epoch 00007: val_loss did not improve from 0.00380\n",
      "Epoch 8/20\n",
      "100/100 [==============================] - 60s 596ms/step - loss: 0.0039 - val_loss: 0.0038\n",
      "\n",
      "Epoch 00008: val_loss improved from 0.00380 to 0.00378, saving model to 02_checkpoint.keras\n",
      "Epoch 9/20\n",
      "100/100 [==============================] - 60s 596ms/step - loss: 0.0038 - val_loss: 0.0037\n",
      "\n",
      "Epoch 00009: val_loss improved from 0.00378 to 0.00375, saving model to 02_checkpoint.keras\n",
      "Epoch 10/20\n",
      "100/100 [==============================] - 60s 597ms/step - loss: 0.0038 - val_loss: 0.0040\n",
      "\n",
      "Epoch 00010: val_loss did not improve from 0.00375\n",
      "Epoch 11/20\n",
      "100/100 [==============================] - 60s 597ms/step - loss: 0.0038 - val_loss: 0.0037\n",
      "\n",
      "Epoch 00011: val_loss improved from 0.00375 to 0.00374, saving model to 02_checkpoint.keras\n",
      "Epoch 12/20\n",
      "100/100 [==============================] - 60s 598ms/step - loss: 0.0038 - val_loss: 0.0037\n",
      "\n",
      "Epoch 00012: val_loss improved from 0.00374 to 0.00370, saving model to 02_checkpoint.keras\n",
      "Epoch 13/20\n",
      "100/100 [==============================] - 60s 598ms/step - loss: 0.0037 - val_loss: 0.0038\n",
      "\n",
      "Epoch 00013: val_loss did not improve from 0.00370\n",
      "Epoch 14/20\n",
      "100/100 [==============================] - 60s 599ms/step - loss: 0.0038 - val_loss: 0.0037\n",
      "\n",
      "Epoch 00014: val_loss did not improve from 0.00370\n",
      "Epoch 15/20\n",
      "100/100 [==============================] - 60s 598ms/step - loss: 0.0037 - val_loss: 0.0036\n",
      "\n",
      "Epoch 00015: val_loss improved from 0.00370 to 0.00363, saving model to 02_checkpoint.keras\n",
      "Epoch 16/20\n",
      "100/100 [==============================] - 60s 598ms/step - loss: 0.0037 - val_loss: 0.0038\n",
      "\n",
      "Epoch 00016: val_loss did not improve from 0.00363\n",
      "Epoch 17/20\n",
      "100/100 [==============================] - 60s 598ms/step - loss: 0.0037 - val_loss: 0.0037\n",
      "\n",
      "Epoch 00017: val_loss did not improve from 0.00363\n",
      "Epoch 18/20\n",
      "100/100 [==============================] - 60s 599ms/step - loss: 0.0037 - val_loss: 0.0038\n",
      "\n",
      "Epoch 00018: val_loss did not improve from 0.00363\n",
      "Epoch 00018: early stopping\n",
      "Wall time: 17min 54s\n"
     ]
    }
   ],
   "source": [
    "%%time\n",
    "history = model.fit(x= generator,\n",
    "                    epochs= 20,\n",
    "                    steps_per_epoch= 100,\n",
    "                    validation_data=validation_data,\n",
    "                    callbacks=callbacks)\n",
    "\n",
    "# try \n",
    "#use_multiprocessing=True, workers=4)\n",
    "# or this is CPU only?"
   ]
  },
  {
   "cell_type": "code",
   "execution_count": 58,
   "metadata": {
    "colab": {
     "base_uri": "https://localhost:8080/",
     "height": 34
    },
    "colab_type": "code",
    "id": "z1v9EfvqS4s-",
    "outputId": "1595d431-3746-4aa4-9a43-60b2d77cac41"
   },
   "outputs": [
    {
     "name": "stdout",
     "output_type": "stream",
     "text": [
      " Volume in drive C has no label.\n",
      " Volume Serial Number is 5CF4-4F8B\n",
      "\n",
      " Directory of C:\\Users\\DantchOg\\dev\\ML_engineer_nd009_capstone\n",
      "\n",
      "20.07.2021 Ј.  17:34    <DIR>          .\n",
      "20.07.2021 Ј.  17:34    <DIR>          ..\n",
      "20.07.2021 Ј.  10:22    <DIR>          .ipynb_checkpoints\n",
      "19.07.2021 Ј.  13:36           228я866 01_Prepare_the_dataset.ipynb\n",
      "20.07.2021 Ј.  17:30         3я213я312 02_checkpoint.keras\n",
      "20.07.2021 Ј.  17:34           478я048 02_GRU_RNN_model.ipynb\n",
      "14.12.2018 Ј.  13:36           548я606 03_DCCNN_model.ipynb\n",
      "19.07.2021 Ј.  13:29       176я839я904 3138627798433dat.txt\n",
      "30.11.2018 Ј.  08:41        15я897я354 3138627798433dat.txt.zip\n",
      "01.12.2018 Ј.  17:27            26я458 3138627798433inv.txt\n",
      "01.12.2018 Ј.  16:51               914 3138627798433stn.txt\n",
      "20.07.2021 Ј.  17:34         6я422я208 GRU_model.h5\n",
      "20.07.2021 Ј.  17:16    <DIR>          logs\n",
      "01.12.2018 Ј.  18:56             5я630 noaa_ncei_data.txt\n",
      "02.07.2021 Ј.  15:59            20я535 project.docx\n",
      "02.07.2021 Ј.  15:48             5я843 project.md\n",
      "02.07.2021 Ј.  15:59           135я962 project.pdf\n",
      "20.07.2021 Ј.  16:41             3я156 t1.py\n",
      "20.07.2021 Ј.  17:13             3я083 Untitled.ipynb\n",
      "19.07.2021 Ј.  13:33        23я235я776 weather.npy\n",
      "19.07.2021 Ј.  13:36        22я501я564 weather_VAR_SOF1\n",
      "19.07.2021 Ј.  13:20    <DIR>          __MACOSX\n",
      "              17 File(s)    249я567я219 bytes\n",
      "               5 Dir(s)  406я595я002я368 bytes free\n"
     ]
    }
   ],
   "source": [
    "#!ls {checkpoint_dir}\n",
    "!dir {checkpoint_dir}"
   ]
  },
  {
   "cell_type": "code",
   "execution_count": 57,
   "metadata": {
    "colab": {
     "base_uri": "https://localhost:8080/",
     "height": 89
    },
    "colab_type": "code",
    "id": "0fDquKG8UXH6",
    "outputId": "0d1cf65f-33cf-4752-906c-bc58bc695f35"
   },
   "outputs": [],
   "source": [
    "# Save the weights\n",
    "#model.save_weights('./checkpoints/my_checkpoint')\n",
    "\n",
    "# Restore the weights\n",
    "#model = create_model()\n",
    "#model.load_weights('./checkpoints/my_checkpoint')\n",
    "\n",
    "\n",
    "model.save('GRU_model.h5')"
   ]
  },
  {
   "cell_type": "code",
   "execution_count": 59,
   "metadata": {
    "colab": {},
    "colab_type": "code",
    "id": "UOxlFqUgSZml"
   },
   "outputs": [
    {
     "name": "stderr",
     "output_type": "stream",
     "text": [
      "WARNING:absl:Found untraced functions such as gru_cell_layer_call_and_return_conditional_losses, gru_cell_layer_call_fn, gru_cell_layer_call_fn, gru_cell_layer_call_and_return_conditional_losses, gru_cell_layer_call_and_return_conditional_losses while saving (showing 5 of 5). These functions will not be directly callable after loading.\n"
     ]
    },
    {
     "name": "stdout",
     "output_type": "stream",
     "text": [
      "INFO:tensorflow:Assets written to: ./test2\\assets\n"
     ]
    },
    {
     "name": "stderr",
     "output_type": "stream",
     "text": [
      "INFO:tensorflow:Assets written to: ./test2\\assets\n"
     ]
    }
   ],
   "source": [
    "# one more save experiment\n",
    "# nb: use locally -- in colab there's no error message, but no saved file too...\n",
    "file_p = \"./test2\"\n",
    "tf.keras.models.save_model(\n",
    "    model,\n",
    "    filepath=file_p,\n",
    "    overwrite=True,\n",
    "    include_optimizer=True\n",
    ")"
   ]
  },
  {
   "cell_type": "markdown",
   "metadata": {},
   "source": [
    "## Load checkpoint\n",
    "\n",
    "In case of early stop only, reload the last saved checkpoint, which should have the best performance on the test set."
   ]
  },
  {
   "cell_type": "code",
   "execution_count": 63,
   "metadata": {
    "colab": {},
    "colab_type": "code",
    "id": "eDav8OLP0uF2"
   },
   "outputs": [
    {
     "name": "stdout",
     "output_type": "stream",
     "text": [
      "\n"
     ]
    }
   ],
   "source": [
    "#\n",
    "print(checkpoint_dir)\n",
    "\n",
    "\n",
    "try:\n",
    "    model.load_weights('GRU_model.h5')\n",
    "except Exception as error:\n",
    "    print(\"Error trying to load checkpoint.\")\n",
    "    print(error)"
   ]
  },
  {
   "cell_type": "markdown",
   "metadata": {
    "colab_type": "text",
    "id": "Il02KhIqPz0V"
   },
   "source": [
    "## Performance on Test Set\n",
    "\n",
    "We can now evaluate the model's performance on the test set. The function implemented in [2] expects a batch of data.  But we can just use one long time series for the test set, so we just expand the array-dimensionality to create a batch with that one sequence."
   ]
  },
  {
   "cell_type": "code",
   "execution_count": 64,
   "metadata": {
    "colab": {
     "base_uri": "https://localhost:8080/",
     "height": 34
    },
    "colab_type": "code",
    "id": "SSWUQYcFPs3D",
    "outputId": "911fbcd1-c749-47ff-920f-f11219bf5ceb"
   },
   "outputs": [
    {
     "name": "stdout",
     "output_type": "stream",
     "text": [
      "1/1 [==============================] - 2s 2s/step - loss: 0.0038\n"
     ]
    }
   ],
   "source": [
    "result = model.evaluate(x=np.expand_dims(x_test_scaled, axis=0),\n",
    "                        y=np.expand_dims(y_test_scaled, axis=0))"
   ]
  },
  {
   "cell_type": "code",
   "execution_count": 65,
   "metadata": {
    "colab": {
     "base_uri": "https://localhost:8080/",
     "height": 34
    },
    "colab_type": "code",
    "id": "FEdbS4aDP_N9",
    "outputId": "fe7b02d6-5ae8-4124-b779-1dae44bde4f9"
   },
   "outputs": [
    {
     "name": "stdout",
     "output_type": "stream",
     "text": [
      "loss (test-set): 0.003775995457544923\n"
     ]
    }
   ],
   "source": [
    "print(\"loss (test-set):\", result)"
   ]
  },
  {
   "cell_type": "code",
   "execution_count": 66,
   "metadata": {},
   "outputs": [
    {
     "data": {
      "text/plain": [
       "<matplotlib.legend.Legend at 0x1b08ff6c430>"
      ]
     },
     "execution_count": 66,
     "metadata": {},
     "output_type": "execute_result"
    },
    {
     "data": {
      "image/png": "[encoded data removed]",
      "text/plain": [
       "<Figure size 432x288 with 1 Axes>"
      ]
     },
     "metadata": {
      "needs_background": "light"
     },
     "output_type": "display_data"
    }
   ],
   "source": [
    "# Plot Loss Over Time for the Training and Validation sets\n",
    "# The history recording trick history = model.fit... is from [3]\n",
    "plt.plot(history.history['loss'])\n",
    "plt.plot(history.history['val_loss'])\n",
    "\n",
    "plt.xlabel('Epoch')\n",
    "plt.ylabel('Mean Absolute Error Loss') # The custom one, w/warmup\n",
    "plt.title('Loss Over Time')\n",
    "plt.legend(['Train','Valid'])"
   ]
  },
  {
   "cell_type": "markdown",
   "metadata": {
    "colab_type": "text",
    "id": "J4-r-BW0QW9L"
   },
   "source": [
    "## Generate Predictions\n",
    "\n",
    "This helper-function plots the predicted and true output signals."
   ]
  },
  {
   "cell_type": "code",
   "execution_count": 67,
   "metadata": {
    "colab": {},
    "colab_type": "code",
    "id": "Jpyf2Gv1QGgq"
   },
   "outputs": [],
   "source": [
    "def plot_comparison(start_idx, length=100, train=True):\n",
    "    \"\"\"\n",
    "    Plot the predicted and true output-signals.\n",
    "    \n",
    "    :param start_idx: Start-index for the time-series.\n",
    "    :param length: Sequence-length to process and plot.\n",
    "    :param train: Boolean whether to use training- or test-set.\n",
    "    \"\"\"\n",
    "    \n",
    "    if train:\n",
    "        # Use training-data.\n",
    "        x = x_train_scaled\n",
    "        y_true = y_train\n",
    "    else:\n",
    "        # Use test-data.\n",
    "        x = x_test_scaled\n",
    "        y_true = y_test\n",
    "    \n",
    "    # End-index for the sequences.\n",
    "    end_idx = start_idx + length\n",
    "    \n",
    "    # Select the sequences from the given start-index and\n",
    "    # of the given length.\n",
    "    x = x[start_idx:end_idx]\n",
    "    y_true = y_true[start_idx:end_idx]\n",
    "    \n",
    "    # Input-signals for the model.\n",
    "    x = np.expand_dims(x, axis=0)\n",
    "\n",
    "    # Use the model to predict the output-signals.\n",
    "    y_pred = model.predict(x)\n",
    "    \n",
    "    # The output of the model is between 0 and 1.\n",
    "    # Do an inverse map to get it back to the scale\n",
    "    # of the original data-set.\n",
    "    y_pred_rescaled = y_scaler.inverse_transform(y_pred[0])\n",
    "    \n",
    "    # For each output-signal.\n",
    "    for signal in range(len(target_names)):\n",
    "        # Get the output-signal predicted by the model.\n",
    "        signal_pred = y_pred_rescaled[:, signal]\n",
    "        \n",
    "        # Get the true output-signal from the data-set.\n",
    "        signal_true = y_true[:, signal]\n",
    "\n",
    "        # Make the plotting-canvas bigger.\n",
    "        plt.figure(figsize=(15,5))\n",
    "        \n",
    "        # Plot and compare the two signals.\n",
    "        plt.plot(signal_true, label='true')\n",
    "        plt.plot(signal_pred, label='pred')\n",
    "        \n",
    "        # Plot grey box for warmup-period.\n",
    "        p = plt.axvspan(0, warmup_steps, facecolor='black', alpha=0.15)\n",
    "        \n",
    "        # Plot labels etc.\n",
    "        plt.ylabel(target_names[signal])\n",
    "        plt.legend()\n",
    "        plt.show()"
   ]
  },
  {
   "cell_type": "code",
   "execution_count": 68,
   "metadata": {
    "colab": {
     "base_uri": "https://localhost:8080/",
     "height": 320
    },
    "colab_type": "code",
    "id": "OPu9PmLPQZOP",
    "outputId": "a47440f9-3f7d-4941-a009-fe6c2c8691aa"
   },
   "outputs": [
    {
     "data": {
      "image/png": "[encoded data removed]",
      "text/plain": [
       "<Figure size 1080x360 with 1 Axes>"
      ]
     },
     "metadata": {
      "needs_background": "light"
     },
     "output_type": "display_data"
    }
   ],
   "source": [
    "plot_comparison(start_idx=100000, length=1000, train=True)"
   ]
  },
  {
   "cell_type": "markdown",
   "metadata": {
    "colab_type": "text",
    "id": "RZredALRdrIL"
   },
   "source": []
  },
  {
   "cell_type": "code",
   "execution_count": 69,
   "metadata": {
    "colab": {
     "base_uri": "https://localhost:8080/",
     "height": 320
    },
    "colab_type": "code",
    "id": "Bf-wK5lBZcj8",
    "outputId": "eb7c0162-edb4-4c53-c644-d886e340c107"
   },
   "outputs": [
    {
     "data": {
      "image/png": "[encoded data removed]",
      "text/plain": [
       "<Figure size 1080x360 with 1 Axes>"
      ]
     },
     "metadata": {
      "needs_background": "light"
     },
     "output_type": "display_data"
    }
   ],
   "source": [
    "plot_comparison(start_idx=200, length=1000, train=False)"
   ]
  },
  {
   "cell_type": "code",
   "execution_count": null,
   "metadata": {
    "colab": {},
    "colab_type": "code",
    "id": "x8lQgfpwZ69a"
   },
   "outputs": [],
   "source": []
  },
  {
   "cell_type": "markdown",
   "metadata": {
    "colab_type": "text",
    "id": "8Disi_Fqpoq4"
   },
   "source": [
    "received this message from Colab: close to the memory limit of the free GPU w/12 GB:\n",
    "\n",
    "```\n",
    "GPU memory usage is close to the limit\n",
    "\n",
    "Your GPU is close to its memory limit. You will not be able to use any additional memory in this session. Currently, 10.66 GB / 11.17 GB is being used. Would you like to terminate some sessions in order to free up GPU memory (state will be lost for those sessions)?\n",
    "```"
   ]
  },
  {
   "cell_type": "code",
   "execution_count": 184,
   "metadata": {
    "colab": {
     "base_uri": "https://localhost:8080/",
     "height": 34
    },
    "colab_type": "code",
    "id": "-ndLOH7KptOv",
    "outputId": "5580adc4-5bc3-4cc2-b79d-6f2b30153028"
   },
   "outputs": [
    {
     "name": "stdout",
     "output_type": "stream",
     "text": [
      "checkpoint  cp.ckpt.data-00000-of-00001  cp.ckpt.index\n"
     ]
    }
   ],
   "source": [
    "!ls {checkpoint_dir}"
   ]
  },
  {
   "cell_type": "markdown",
   "metadata": {
    "colab": {},
    "colab_type": "code",
    "id": "0CAzaQn7Kblz"
   },
   "source": [
    "This table summarizes the training times for the 3 platforms used:"
   ]
  },
  {
   "cell_type": "markdown",
   "metadata": {},
   "source": [
    "| platform | MacBook Pro | DL1 desktop | Colab Free |\n",
    "|----------|-------------|-------------|------------|\n",
    "| OS               | macOS Mojave  | Ubuntu 18.04| Linux |\n",
    "| CUDA GPU | none        | 4x GP106 6GB| GK210 12GB |\n",
    "| CPU      | i7 2.9GHz   | P G4400 3GHz| Xeon 2+GHz |\n",
    "| Time     | 21:00:00 est| 00:29:34    | 00:59:12   |"
   ]
  },
  {
   "cell_type": "markdown",
   "metadata": {
    "colab_type": "text",
    "id": "y8EPzWEn0uBN"
   },
   "source": [
    "## References\n",
    "\n",
    "\n",
    "1. Yordan Darakchiev,  [Deep Learning Course][1], SoftUni\n",
    "\n",
    "\n",
    "\n",
    "2. Magnus Erik Hvass Pedersen, [TensorFlow-Tutorials][2]\n",
    "/ [GitHub](https://github.com/Hvass-Labs/TensorFlow-Tutorials) / [Videos on YouTube](https://www.youtube.com/playlist?list=PL9Hr9sNUjfsmEu1ZniY0XpHSzl5uihcXZ)\n",
    "\n",
    "\n",
    "\n",
    "3. Joseph Eddy, [Time Series Forecasting with Convolutional Neural Networks - a Look at WaveNet][3], blog post\n",
    "\n",
    "\n",
    "4. Aaron van den Oord, Sander Dieleman et al., [WaveNet: A Generative Model for Raw Audio][4]\n",
    "\n",
    "\n",
    "\n",
    "[1]: https://softuni.bg/trainings/1921/deep-learning-november-2018\n",
    "\n",
    "[2]: http://www.hvass-labs.org/\n",
    "\n",
    "[3]: https://jeddy92.github.io/JEddy92.github.io/ts_seq2seq_conv/\n",
    "\n",
    "[4]: https://arxiv.org/pdf/1609.03499.pdf\n",
    "\n",
    "\n"
   ]
  },
  {
   "cell_type": "markdown",
   "metadata": {},
   "source": [
    "\n",
    "Continues to notebook 03."
   ]
  },
  {
   "cell_type": "code",
   "execution_count": null,
   "metadata": {},
   "outputs": [],
   "source": []
  }
 ],
 "metadata": {
  "accelerator": "GPU",
  "colab": {
   "collapsed_sections": [],
   "name": "Copy of prepare_dataset.ipynb",
   "provenance": [],
   "version": "0.3.2"
  },
  "kernelspec": {
   "display_name": "Python 3",
   "language": "python",
   "name": "python3"
  },
  "language_info": {
   "codemirror_mode": {
    "name": "ipython",
    "version": 3
   },
   "file_extension": ".py",
   "mimetype": "text/x-python",
   "name": "python",
   "nbconvert_exporter": "python",
   "pygments_lexer": "ipython3",
   "version": "3.8.10"
  }
 },
 "nbformat": 4,
 "nbformat_minor": 4
}
