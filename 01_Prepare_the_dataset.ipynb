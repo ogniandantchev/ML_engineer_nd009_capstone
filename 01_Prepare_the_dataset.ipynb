{
 "cells": [
  {
   "cell_type": "markdown",
   "source": [
    "# Multivariate Time Series Forecasting\n",
    "\n",
    "\n",
    "## Abstract\n",
    "\n",
    "An attempt to predict the temperature is presented, based on data series for the temperature and the atmospheric pressure, in the target and several other cities.  Two models are compared -- a RNN with GRU cell and a Dilated Causal CNN.  Training times and the performace of the two models are compared for three different hardware platforms.\n",
    "This set of 3 Jupyter Notebooks are a course project -- partial fulfillment of the requirements of [1].\n",
    "\n",
    "## 01. Prepare the dataset\n",
    "\n",
    "We will use weather data for the period 1931-2018 for four cities in Bulgaria -- Ruse, Sofia, Varna and Veliko Tarnovo.  After struggling with the format of some of the local sources, I found that the National Centers for Environmental Information of the National Oceanic and Atmospheric Administration provide an access to a global source of climatic data.  It was also used in [2], and one can pick almost any location in the world.  \n",
    "\n",
    "Here's the sequience to aquire, clean and reshape the data, described in detail below:\n",
    "* generate the raw data set at https://www.ncdc.noaa.gov/\n",
    "* review the original dataset files\n",
    "* resample data and helper functions\n",
    "* remove data\n",
    "* add data\n"
   ],
   "metadata": {}
  },
  {
   "cell_type": "markdown",
   "source": [
    "\n",
    "Technical Note: Best run this Notebook 01 locally, to be able to store the resulting clean dataset to a local storage.  Otherwise, we would need to import the files library in Colab, in order to download the result (or store it to Drive):\n",
    "```\n",
    "from google.colab import files\n",
    "```\n"
   ],
   "metadata": {}
  },
  {
   "cell_type": "markdown",
   "source": [
    "This is the fixed format of original files, generated and downloaded from https://www.ncdc.noaa.gov/\n",
    "\n",
    "This is the exact location: https://www7.ncdc.noaa.gov/CDO/cdo\n",
    "Please note that the data search site is undergoing an overhaul.\n",
    "\n",
    "<pre><code><font size=\"1\">    \n",
    "Stations codes and names file [3138627798433stn.txt]:\n",
    "\n",
    "USAF-WBAN_ID STATION NAME                   COUNTRY                                            STATE \t\t\t      LATITUDE LONGITUDE ELEVATION\n",
    "------------ ------------------------------ -------------------------------------------------- ------------------------------ -------- --------- ---------\n",
    "155300 99999 VELIKO TARNOVO                 BULGARIA                                                                           +43.083  +025.650   +0218.0\n",
    "155350 99999 ROUSSE/RUSE                    BULGARIA                                                                           +43.850  +025.950   +0045.0\n",
    "155520 99999 VARNA                          BULGARIA                                                                           +43.232  +027.825   +0070.1\n",
    "156140 99999 SOFIA                          BULGARIA                                                                           +42.695  +023.406   +0531.0\n",
    "\n",
    "\n",
    "=====================================================\n",
    "\n",
    "Main data file [3138627798433dat.txt]:\n",
    "\n",
    "  USAF  WBAN YR--MODAHRMN DIR SPD GUS CLG SKC L M H  VSB MW MW MW MW AW AW AW AW W TEMP DEWP    SLP   ALT    STP MAX MIN PCP01 PCP06 PCP24 PCPXX SD\n",
    "155300 99999 193607010600 ***   0 *** 722 SCT 5 0 * 12.5 ** ** ** ** ** ** ** ** 1   70 **** 1016.8 ***** ****** *** *** ***** ***** ***** ***** ** \n",
    "155300 99999 193607011800 ***   0 *** 722 SCT 0 4 * 12.5 ** ** ** ** ** ** ** ** 0   73 **** 1015.7 ***** ****** *** *** ***** ***** ***** ***** ** \n",
    "155300 99999 193607020600 ***  43 *** 722 CLR 0 0 * 31.2 ** ** ** ** ** ** ** ** 2   70 **** 1018.3 ***** ****** *** *** ***** ***** ***** ***** ** \n",
    "155300 99999 193607021800 200   2 *** 722 SCT 0 6 * 31.2 ** ** ** ** ** ** ** ** 0   75 **** 1016.4 ***** ****** *** *** ***** ***** ***** ***** ** \n",
    "155300 99999 193607030600 070   2 *** 722 CLR 0 0 * 31.2 ** ** ** ** ** ** ** ** 0   72 **** 1016.3 ***** ****** *** *** ***** ***** ***** ***** **\n",
    "...\n",
    "=====================================================\n",
    "\n",
    "\n",
    "Inventory file [3138627798433inv.txt]:\n",
    "\n",
    "155300 99999 VELIKO TARNOVO                 1936    0    0    0    0    0    0   48   45   47   28   46   36\n",
    "155300 99999 VELIKO TARNOVO                 1937   41   50   32   38   31   33   36   31   34   22   33   18\n",
    "...\n",
    "156140 99999 SOFIA                          2017 1732 1568 1736 1679 1735 1672 1735 1722 1678 1734 1679 1735\n",
    "156140 99999 SOFIA                          2018 1681 1564 1735 1664 1721 1677 1719 1717 1518 1687  723    0\n",
    "\n",
    "\n",
    "Total Surface Hourly Observations Available: 1219794\n",
    "Total Station-Years: 242\n",
    "=====================================================\n",
    "\n",
    "\n",
    "Surface Stations data legend -- description file [3505doc.txt]:\n",
    "\n",
    "                                                   06/26/2012\n",
    "\n",
    "                  SURFACE HOURLY ABBREVIATED FORMAT\n",
    "\n",
    "ONE HEADER RECORD FOLLOWED BY DATA RECORDS:\n",
    "\n",
    "COLUMN  DATA DESCRIPTION\n",
    "\n",
    "01-06   USAF = AIR FORCE CATALOG STATION NUMBER   \n",
    "08-12   WBAN = NCDC WBAN NUMBER\n",
    "14-25   YR--MODAHRMN = YEAR-MONTH-DAY-HOUR-MINUTE IN GREENWICH MEAN TIME (GMT)\n",
    "27-29   DIR = WIND DIRECTION IN COMPASS DEGREES, 990 = VARIABLE, REPORTED AS\n",
    "        '***' WHEN AIR IS CALM (SPD WILL THEN BE 000)\n",
    "31-37   SPD & GUS = WIND SPEED & GUST IN MILES PER HOUR  \n",
    "39-41   CLG = CLOUD CEILING--LOWEST OPAQUE LAYER\n",
    "        WITH 5/8 OR GREATER COVERAGE, IN HUNDREDS OF FEET,\n",
    "        722 = UNLIMITED \n",
    "43-45   SKC = SKY COVER -- CLR-CLEAR, SCT-SCATTERED-1/8 TO 4/8,\n",
    "        BKN-BROKEN-5/8 TO 7/8, OVC-OVERCAST, \n",
    "        OBS-OBSCURED, POB-PARTIAL OBSCURATION   \n",
    "47-47   L = LOW CLOUD TYPE, SEE BELOW\n",
    "49-49   M = MIDDLE CLOUD TYPE, SEE BELOW\n",
    "51-51   H = HIGH CLOUD TYPE, SEE BELOW  \n",
    "53-56   VSB = VISIBILITY IN STATUTE MILES TO NEAREST TENTH \n",
    "        NOTE: FOR SOME STATIONS, VISIBILITY IS REPORTED ONLY UP TO A\n",
    "        MAXIMUM OF 7 OR 10 MILES IN METAR OBSERVATIONS, BUT TO HIGHER\n",
    "        VALUES IN SYNOPTIC OBSERVATIONS, WHICH CAUSES THE VALUES TO \n",
    "        FLUCTUATE FROM ONE DATA RECORD TO THE NEXT.  ALSO, VALUES\n",
    "        ORIGINALLY REPORTED AS '10' MAY APPEAR AS '10.1' DUE TO DATA\n",
    "        BEING ARCHIVED IN METRIC UNITS AND CONVERTED BACK TO ENGLISH.\n",
    "58-68   MW MW MW MW = MANUALLY OBSERVED PRESENT WEATHER--LISTED BELOW IN PRESENT WEATHER TABLE\n",
    "70-80   AW AW AW AW = AUTO-OBSERVED PRESENT WEATHER--LISTED BELOW IN PRESENT WEATHER TABLE\n",
    "82-82   W = PAST WEATHER INDICATOR, SEE BELOW\n",
    "84-92   TEMP & DEWP = TEMPERATURE & DEW POINT IN FAHRENHEIT \n",
    "94-99   SLP = SEA LEVEL PRESSURE IN MILLIBARS TO NEAREST TENTH \n",
    "...\n",
    "\n",
    "\n",
    "NOTES:  \n",
    "\n",
    "- *'s IN FIELD INDICATES ELEMENT NOT REPORTED.\n",
    "\n",
    "- SOME VALUES WERE CONVERTED FROM METRIC TO ENGLISH UNITS.  THIS WILL\n",
    "OCCASIONALLY RESULT IN MINOR DIFFERENCES VS ORIGINAL DATA DUE TO ROUNDING.\n",
    "\n",
    "- COLUMN POSITION REFERS TO ASCII TEXT DATA.  \n",
    "...\n",
    "                    PRESENT WEATHER CODE TABLE \n",
    "\n",
    "The code that denotes a specific type of weather observed.\n",
    "-----------------------------------------------------------------\n",
    "00-49  No precipitation at the station at the time of observation\n",
    "-----------------------------------------------------------------\n",
    "...\n",
    "                             HIGH CLOUD TYPE \n",
    "\n",
    "0: No High Clouds\n",
    "1: Cirrus fibratus, sometimes uncinus, not progressively invading\n",
    "the sky\n",
    "2: Cirrus spissatus, in patches or entangled sheaves, which usually\n",
    "do not increase and sometimes seem to be the remains of the upper\n",
    "part  of a Cumulonimbus; or Cirrus castellanus or floccus\n",
    "3: Cirrus spissatus cumulonimbogenitus\n",
    "4: Cirrus unicinus or fibratus, or both, progressively invading the\n",
    "sky; they generally thicken as a whole\n",
    "...\n",
    "==================================================================\n",
    "\n",
    "</code></pre>\n",
    "\n",
    "</font>\n",
    "\n",
    "There is a lot of additional meteo information, but the data is very sparse -- only temperatures and pressures are filled in diligently at every measurement.\n"
   ],
   "metadata": {}
  },
  {
   "cell_type": "code",
   "execution_count": 1,
   "source": [
    "# !cat noaa_ncei_data.txt  # macOS or Linux"
   ],
   "outputs": [],
   "metadata": {}
  },
  {
   "cell_type": "code",
   "execution_count": 2,
   "source": [
    "import pandas as pd\r\n",
    "import numpy as np"
   ],
   "outputs": [],
   "metadata": {}
  },
  {
   "cell_type": "code",
   "execution_count": 3,
   "source": [
    "%matplotlib inline\r\n",
    "import matplotlib.pyplot as plt\r\n",
    "from sklearn.preprocessing import MinMaxScaler"
   ],
   "outputs": [],
   "metadata": {}
  },
  {
   "cell_type": "code",
   "execution_count": 4,
   "source": [
    "# as described in the NOAA Surface Stations file 3505doc.txt, but start at 0\r\n",
    "column_specs = [[0,6], [13,25], [83, 87], [93, 99]]  \r\n",
    "# drop the rest of the columns\r\n",
    "\r\n",
    "column_names = [\"City\", \"Date_Time\", \"Temp, C\", \"SLP, hPa\"]\r\n",
    "\r\n",
    "cities = [\"Veliko Tarnovo\", \"Ruse\", \"Varna\", \"Sofia\"]\r\n",
    "\r\n",
    "def usaf_to_city(usaf):\r\n",
    "    \"\"\"\r\n",
    "    USAF code to city/station name\r\n",
    "    see file *stn.txt from your NCDC NOAA dataset\r\n",
    "    \"\"\"\r\n",
    "\r\n",
    "    cities_usaf_codes = {\r\n",
    "            155300: \"Veliko Tarnovo\",\r\n",
    "            155350: \"Ruse\",\r\n",
    "            155520: \"Varna\",\r\n",
    "            156140: \"Sofia\",\r\n",
    "        }\r\n",
    "\r\n",
    "    return cities_usaf_codes[usaf]\r\n",
    "\r\n",
    " \r\n",
    "def fahrenheit_to_celsius(f):\r\n",
    "    \r\n",
    "    c = (f - 32) / 1.8\r\n",
    "    \r\n",
    "    return round(c, 2) # all F temperatures in the original series are integers\r\n"
   ],
   "outputs": [],
   "metadata": {}
  },
  {
   "cell_type": "code",
   "execution_count": 5,
   "source": [
    "usaf_to_city(155350)"
   ],
   "outputs": [
    {
     "output_type": "execute_result",
     "data": {
      "text/plain": [
       "'Ruse'"
      ]
     },
     "metadata": {},
     "execution_count": 5
    }
   ],
   "metadata": {}
  },
  {
   "cell_type": "code",
   "execution_count": 6,
   "source": [
    "print(fahrenheit_to_celsius(70))\r\n",
    "print(fahrenheit_to_celsius(0))"
   ],
   "outputs": [
    {
     "output_type": "stream",
     "name": "stdout",
     "text": [
      "21.11\n",
      "-17.78\n"
     ]
    }
   ],
   "metadata": {}
  },
  {
   "cell_type": "code",
   "execution_count": 7,
   "source": [
    "from zipfile import ZipFile\r\n",
    "\r\n",
    "with ZipFile('3138627798433dat.txt.zip', 'r') as zipObj:\r\n",
    "   # Extract all the contents of zip file in different directory\r\n",
    "   zipObj.extractall('.')\r\n",
    "   print('File is unzipped in current folder') "
   ],
   "outputs": [
    {
     "output_type": "stream",
     "name": "stdout",
     "text": [
      "File is unzipped in current folder\n"
     ]
    }
   ],
   "metadata": {}
  },
  {
   "cell_type": "code",
   "execution_count": 8,
   "source": [
    "# reading the 170 MB raw fixed text file\r\n",
    "df = pd.read_fwf(\"3138627798433dat.txt\",\r\n",
    "                     colspecs=column_specs,\r\n",
    "                     header=0,\r\n",
    "                     names=column_names)\r\n",
    "\r\n",
    "#                     parse_dates={'date': [0, 1, 2, 3]},\r\n",
    "#                     date_parser=lambda x: datetime.strptime(x, '%Y %j %H %M')) # not sure?"
   ],
   "outputs": [],
   "metadata": {}
  },
  {
   "cell_type": "code",
   "execution_count": 9,
   "source": [
    "df.dtypes"
   ],
   "outputs": [
    {
     "output_type": "execute_result",
     "data": {
      "text/plain": [
       "City          int64\n",
       "Date_Time     int64\n",
       "Temp, C      object\n",
       "SLP, hPa     object\n",
       "dtype: object"
      ]
     },
     "metadata": {},
     "execution_count": 9
    }
   ],
   "metadata": {}
  },
  {
   "cell_type": "code",
   "execution_count": 10,
   "source": [
    "# convert codes to city names\r\n",
    "df[\"City\"] = df[\"City\"].apply(usaf_to_city)"
   ],
   "outputs": [],
   "metadata": {}
  },
  {
   "cell_type": "code",
   "execution_count": 11,
   "source": [
    "df[\"Temp, C\"] = pd.to_numeric(df[\"Temp, C\"], errors=\"coerce\")\r\n",
    "df[\"SLP, hPa\"] = pd.to_numeric(df[\"SLP, hPa\"], errors=\"coerce\")\r\n",
    "# with the coerce option all missing values (with stars) will be kept as NaN"
   ],
   "outputs": [],
   "metadata": {}
  },
  {
   "cell_type": "code",
   "execution_count": 12,
   "source": [
    "# convert all temperatures from F to C\r\n",
    "df[\"Temp, C\"] = df[\"Temp, C\"].apply(fahrenheit_to_celsius)"
   ],
   "outputs": [],
   "metadata": {}
  },
  {
   "cell_type": "code",
   "execution_count": 13,
   "source": [
    "df[\"Temp, C\"].min()"
   ],
   "outputs": [
    {
     "output_type": "execute_result",
     "data": {
      "text/plain": [
       "-71.67"
      ]
     },
     "metadata": {},
     "execution_count": 13
    }
   ],
   "metadata": {}
  },
  {
   "cell_type": "markdown",
   "source": [
    "This one is a mistake for sure -- we don't have such temperatures here, so I'll delete this line.  "
   ],
   "metadata": {}
  },
  {
   "cell_type": "code",
   "execution_count": 14,
   "source": [
    "# convert the original Date/time string (object) to pandas datetime type\r\n",
    "df[\"Date_Time\"] = pd.to_datetime(df[\"Date_Time\"], format='%Y%m%d%H%M')"
   ],
   "outputs": [],
   "metadata": {}
  },
  {
   "cell_type": "code",
   "execution_count": 15,
   "source": [
    "# Set the city name and date-time as the index.\r\n",
    "df.set_index([\"City\", \"Date_Time\"], inplace=True)"
   ],
   "outputs": [],
   "metadata": {}
  },
  {
   "cell_type": "code",
   "execution_count": 16,
   "source": [
    "df"
   ],
   "outputs": [
    {
     "output_type": "execute_result",
     "data": {
      "text/plain": [
       "                                    Temp, C  SLP, hPa\n",
       "City           Date_Time                             \n",
       "Veliko Tarnovo 1936-07-01 06:00:00    21.11    1016.8\n",
       "               1936-07-01 18:00:00    22.78    1015.7\n",
       "               1936-07-02 06:00:00    21.11    1018.3\n",
       "               1936-07-02 18:00:00    23.89    1016.4\n",
       "               1936-07-03 06:00:00    22.22    1016.3\n",
       "...                                     ...       ...\n",
       "Sofia          2018-11-01 21:30:00    17.22       NaN\n",
       "               2018-11-01 22:00:00    16.11       NaN\n",
       "               2018-11-01 22:30:00    16.11       NaN\n",
       "               2018-11-01 23:00:00    16.11       NaN\n",
       "               2018-11-01 23:30:00    16.11       NaN\n",
       "\n",
       "[1186844 rows x 2 columns]"
      ],
      "text/html": [
       "<div>\n",
       "<style scoped>\n",
       "    .dataframe tbody tr th:only-of-type {\n",
       "        vertical-align: middle;\n",
       "    }\n",
       "\n",
       "    .dataframe tbody tr th {\n",
       "        vertical-align: top;\n",
       "    }\n",
       "\n",
       "    .dataframe thead th {\n",
       "        text-align: right;\n",
       "    }\n",
       "</style>\n",
       "<table border=\"1\" class=\"dataframe\">\n",
       "  <thead>\n",
       "    <tr style=\"text-align: right;\">\n",
       "      <th></th>\n",
       "      <th></th>\n",
       "      <th>Temp, C</th>\n",
       "      <th>SLP, hPa</th>\n",
       "    </tr>\n",
       "    <tr>\n",
       "      <th>City</th>\n",
       "      <th>Date_Time</th>\n",
       "      <th></th>\n",
       "      <th></th>\n",
       "    </tr>\n",
       "  </thead>\n",
       "  <tbody>\n",
       "    <tr>\n",
       "      <th rowspan=\"5\" valign=\"top\">Veliko Tarnovo</th>\n",
       "      <th>1936-07-01 06:00:00</th>\n",
       "      <td>21.11</td>\n",
       "      <td>1016.8</td>\n",
       "    </tr>\n",
       "    <tr>\n",
       "      <th>1936-07-01 18:00:00</th>\n",
       "      <td>22.78</td>\n",
       "      <td>1015.7</td>\n",
       "    </tr>\n",
       "    <tr>\n",
       "      <th>1936-07-02 06:00:00</th>\n",
       "      <td>21.11</td>\n",
       "      <td>1018.3</td>\n",
       "    </tr>\n",
       "    <tr>\n",
       "      <th>1936-07-02 18:00:00</th>\n",
       "      <td>23.89</td>\n",
       "      <td>1016.4</td>\n",
       "    </tr>\n",
       "    <tr>\n",
       "      <th>1936-07-03 06:00:00</th>\n",
       "      <td>22.22</td>\n",
       "      <td>1016.3</td>\n",
       "    </tr>\n",
       "    <tr>\n",
       "      <th>...</th>\n",
       "      <th>...</th>\n",
       "      <td>...</td>\n",
       "      <td>...</td>\n",
       "    </tr>\n",
       "    <tr>\n",
       "      <th rowspan=\"5\" valign=\"top\">Sofia</th>\n",
       "      <th>2018-11-01 21:30:00</th>\n",
       "      <td>17.22</td>\n",
       "      <td>NaN</td>\n",
       "    </tr>\n",
       "    <tr>\n",
       "      <th>2018-11-01 22:00:00</th>\n",
       "      <td>16.11</td>\n",
       "      <td>NaN</td>\n",
       "    </tr>\n",
       "    <tr>\n",
       "      <th>2018-11-01 22:30:00</th>\n",
       "      <td>16.11</td>\n",
       "      <td>NaN</td>\n",
       "    </tr>\n",
       "    <tr>\n",
       "      <th>2018-11-01 23:00:00</th>\n",
       "      <td>16.11</td>\n",
       "      <td>NaN</td>\n",
       "    </tr>\n",
       "    <tr>\n",
       "      <th>2018-11-01 23:30:00</th>\n",
       "      <td>16.11</td>\n",
       "      <td>NaN</td>\n",
       "    </tr>\n",
       "  </tbody>\n",
       "</table>\n",
       "<p>1186844 rows × 2 columns</p>\n",
       "</div>"
      ]
     },
     "metadata": {},
     "execution_count": 16
    }
   ],
   "metadata": {
    "scrolled": true
   }
  },
  {
   "cell_type": "code",
   "execution_count": 217,
   "source": [
    "#df.drop(\"Ruse\", inplace=True)"
   ],
   "outputs": [],
   "metadata": {}
  },
  {
   "cell_type": "code",
   "execution_count": 219,
   "source": [
    "#df.drop(\"Veliko Tarnovo\", inplace=True)"
   ],
   "outputs": [],
   "metadata": {}
  },
  {
   "cell_type": "code",
   "execution_count": 17,
   "source": [
    "df[\"Temp, C\"].min()"
   ],
   "outputs": [
    {
     "output_type": "execute_result",
     "data": {
      "text/plain": [
       "-71.67"
      ]
     },
     "metadata": {},
     "execution_count": 17
    }
   ],
   "metadata": {}
  },
  {
   "cell_type": "markdown",
   "source": [
    "Minus 71 C -- problem solved with the removal of Veliko Tarnovo"
   ],
   "metadata": {}
  },
  {
   "cell_type": "code",
   "execution_count": 18,
   "source": [
    "# resample function from [2]\r\n",
    "# some modifications -- don't remove empty rows / cols just yet; change intervals.\r\n",
    "def resample(df):\r\n",
    "    \"\"\"\r\n",
    "    Resample the contents of a Pandas data-frame by first\r\n",
    "    removing empty rows and columns, then up-sampling and\r\n",
    "    interpolating the data for 30-minute intervals, and\r\n",
    "    finally down-sampling to 60-minute intervals.\r\n",
    "    \"\"\"\r\n",
    "\r\n",
    "    # Remove all empty rows and columns.\r\n",
    "    #df_res = df.dropna(axis=[0, 1], how='all')\r\n",
    "\r\n",
    "    # Upsample so the time series has data for every 30 minutes.\r\n",
    "    df_res = df.resample('30T') \r\n",
    "\r\n",
    "    # Fill in missing values.\r\n",
    "    df_res = df_res.interpolate(method='time')\r\n",
    "\r\n",
    "    # Downsample so the time-series has data for every hour.\r\n",
    "    df_res = df_res.resample('60T')\r\n",
    "\r\n",
    "    # Finalize the resampling. (Is this really necessary?)\r\n",
    "    df_res = df_res.interpolate()\r\n",
    "\r\n",
    "    # Remove all empty rows.\r\n",
    "    #df_res = df_res.dropna(how='all')\r\n",
    "\r\n",
    "    return df_res\r\n",
    "\r\n"
   ],
   "outputs": [],
   "metadata": {}
  },
  {
   "cell_type": "code",
   "execution_count": 19,
   "source": [
    "df"
   ],
   "outputs": [
    {
     "output_type": "execute_result",
     "data": {
      "text/plain": [
       "                                    Temp, C  SLP, hPa\n",
       "City           Date_Time                             \n",
       "Veliko Tarnovo 1936-07-01 06:00:00    21.11    1016.8\n",
       "               1936-07-01 18:00:00    22.78    1015.7\n",
       "               1936-07-02 06:00:00    21.11    1018.3\n",
       "               1936-07-02 18:00:00    23.89    1016.4\n",
       "               1936-07-03 06:00:00    22.22    1016.3\n",
       "...                                     ...       ...\n",
       "Sofia          2018-11-01 21:30:00    17.22       NaN\n",
       "               2018-11-01 22:00:00    16.11       NaN\n",
       "               2018-11-01 22:30:00    16.11       NaN\n",
       "               2018-11-01 23:00:00    16.11       NaN\n",
       "               2018-11-01 23:30:00    16.11       NaN\n",
       "\n",
       "[1186844 rows x 2 columns]"
      ],
      "text/html": [
       "<div>\n",
       "<style scoped>\n",
       "    .dataframe tbody tr th:only-of-type {\n",
       "        vertical-align: middle;\n",
       "    }\n",
       "\n",
       "    .dataframe tbody tr th {\n",
       "        vertical-align: top;\n",
       "    }\n",
       "\n",
       "    .dataframe thead th {\n",
       "        text-align: right;\n",
       "    }\n",
       "</style>\n",
       "<table border=\"1\" class=\"dataframe\">\n",
       "  <thead>\n",
       "    <tr style=\"text-align: right;\">\n",
       "      <th></th>\n",
       "      <th></th>\n",
       "      <th>Temp, C</th>\n",
       "      <th>SLP, hPa</th>\n",
       "    </tr>\n",
       "    <tr>\n",
       "      <th>City</th>\n",
       "      <th>Date_Time</th>\n",
       "      <th></th>\n",
       "      <th></th>\n",
       "    </tr>\n",
       "  </thead>\n",
       "  <tbody>\n",
       "    <tr>\n",
       "      <th rowspan=\"5\" valign=\"top\">Veliko Tarnovo</th>\n",
       "      <th>1936-07-01 06:00:00</th>\n",
       "      <td>21.11</td>\n",
       "      <td>1016.8</td>\n",
       "    </tr>\n",
       "    <tr>\n",
       "      <th>1936-07-01 18:00:00</th>\n",
       "      <td>22.78</td>\n",
       "      <td>1015.7</td>\n",
       "    </tr>\n",
       "    <tr>\n",
       "      <th>1936-07-02 06:00:00</th>\n",
       "      <td>21.11</td>\n",
       "      <td>1018.3</td>\n",
       "    </tr>\n",
       "    <tr>\n",
       "      <th>1936-07-02 18:00:00</th>\n",
       "      <td>23.89</td>\n",
       "      <td>1016.4</td>\n",
       "    </tr>\n",
       "    <tr>\n",
       "      <th>1936-07-03 06:00:00</th>\n",
       "      <td>22.22</td>\n",
       "      <td>1016.3</td>\n",
       "    </tr>\n",
       "    <tr>\n",
       "      <th>...</th>\n",
       "      <th>...</th>\n",
       "      <td>...</td>\n",
       "      <td>...</td>\n",
       "    </tr>\n",
       "    <tr>\n",
       "      <th rowspan=\"5\" valign=\"top\">Sofia</th>\n",
       "      <th>2018-11-01 21:30:00</th>\n",
       "      <td>17.22</td>\n",
       "      <td>NaN</td>\n",
       "    </tr>\n",
       "    <tr>\n",
       "      <th>2018-11-01 22:00:00</th>\n",
       "      <td>16.11</td>\n",
       "      <td>NaN</td>\n",
       "    </tr>\n",
       "    <tr>\n",
       "      <th>2018-11-01 22:30:00</th>\n",
       "      <td>16.11</td>\n",
       "      <td>NaN</td>\n",
       "    </tr>\n",
       "    <tr>\n",
       "      <th>2018-11-01 23:00:00</th>\n",
       "      <td>16.11</td>\n",
       "      <td>NaN</td>\n",
       "    </tr>\n",
       "    <tr>\n",
       "      <th>2018-11-01 23:30:00</th>\n",
       "      <td>16.11</td>\n",
       "      <td>NaN</td>\n",
       "    </tr>\n",
       "  </tbody>\n",
       "</table>\n",
       "<p>1186844 rows × 2 columns</p>\n",
       "</div>"
      ]
     },
     "metadata": {},
     "execution_count": 19
    }
   ],
   "metadata": {
    "scrolled": true
   }
  },
  {
   "cell_type": "code",
   "execution_count": 20,
   "source": [
    "# drop Ruse and Veliko Tarnovo by removing the from the list.  Later concat will not\r\n",
    "# add them to the dataframe\r\n",
    "cities = [\"Varna\", \"Sofia\"] "
   ],
   "outputs": [],
   "metadata": {}
  },
  {
   "cell_type": "code",
   "execution_count": 21,
   "source": [
    "# Split the original data into separate dataframes for each city.\r\n",
    "df_cities = [df.xs(city) for city in cities]\r\n",
    "\r\n",
    "# Resample the data for each city.\r\n",
    "df_resampled = [resample(df_city) for df_city in df_cities]\r\n",
    "\r\n",
    "# Join the resampled data into a single data-frame.\r\n",
    "test1 = pd.concat(df_resampled, keys=cities, axis=1, join='inner')\r\n",
    "\r\n"
   ],
   "outputs": [],
   "metadata": {}
  },
  {
   "cell_type": "code",
   "execution_count": 22,
   "source": [
    "#This is no longer possible, after the removal of this column\r\n",
    "#df[\"Veliko Tarnovo\"][\"SLP, hPa\"].plot()"
   ],
   "outputs": [],
   "metadata": {}
  },
  {
   "cell_type": "code",
   "execution_count": 23,
   "source": [
    "test1"
   ],
   "outputs": [
    {
     "output_type": "execute_result",
     "data": {
      "text/plain": [
       "                        Varna                 Sofia             \n",
       "                      Temp, C     SLP, hPa  Temp, C     SLP, hPa\n",
       "Date_Time                                                       \n",
       "1936-01-02 06:00:00   6.11000  1018.900000   0.0000  1019.800000\n",
       "1936-01-02 07:00:00   6.06375  1018.866667   0.0925  1019.683333\n",
       "1936-01-02 08:00:00   6.01750  1018.833333   0.1850  1019.566667\n",
       "1936-01-02 09:00:00   5.97125  1018.800000   0.2775  1019.450000\n",
       "1936-01-02 10:00:00   5.92500  1018.766667   0.3700  1019.333333\n",
       "...                       ...          ...      ...          ...\n",
       "2018-11-01 19:00:00  16.11000  1029.300000  17.2200  1025.166667\n",
       "2018-11-01 20:00:00  16.11000  1029.400000  17.2200  1025.433333\n",
       "2018-11-01 21:00:00  15.56000  1029.500000  17.7800  1025.700000\n",
       "2018-11-01 22:00:00  15.00000  1029.500000  16.1100  1025.700000\n",
       "2018-11-01 23:00:00  15.00000  1029.500000  16.1100  1025.700000\n",
       "\n",
       "[726114 rows x 4 columns]"
      ],
      "text/html": [
       "<div>\n",
       "<style scoped>\n",
       "    .dataframe tbody tr th:only-of-type {\n",
       "        vertical-align: middle;\n",
       "    }\n",
       "\n",
       "    .dataframe tbody tr th {\n",
       "        vertical-align: top;\n",
       "    }\n",
       "\n",
       "    .dataframe thead tr th {\n",
       "        text-align: left;\n",
       "    }\n",
       "\n",
       "    .dataframe thead tr:last-of-type th {\n",
       "        text-align: right;\n",
       "    }\n",
       "</style>\n",
       "<table border=\"1\" class=\"dataframe\">\n",
       "  <thead>\n",
       "    <tr>\n",
       "      <th></th>\n",
       "      <th colspan=\"2\" halign=\"left\">Varna</th>\n",
       "      <th colspan=\"2\" halign=\"left\">Sofia</th>\n",
       "    </tr>\n",
       "    <tr>\n",
       "      <th></th>\n",
       "      <th>Temp, C</th>\n",
       "      <th>SLP, hPa</th>\n",
       "      <th>Temp, C</th>\n",
       "      <th>SLP, hPa</th>\n",
       "    </tr>\n",
       "    <tr>\n",
       "      <th>Date_Time</th>\n",
       "      <th></th>\n",
       "      <th></th>\n",
       "      <th></th>\n",
       "      <th></th>\n",
       "    </tr>\n",
       "  </thead>\n",
       "  <tbody>\n",
       "    <tr>\n",
       "      <th>1936-01-02 06:00:00</th>\n",
       "      <td>6.11000</td>\n",
       "      <td>1018.900000</td>\n",
       "      <td>0.0000</td>\n",
       "      <td>1019.800000</td>\n",
       "    </tr>\n",
       "    <tr>\n",
       "      <th>1936-01-02 07:00:00</th>\n",
       "      <td>6.06375</td>\n",
       "      <td>1018.866667</td>\n",
       "      <td>0.0925</td>\n",
       "      <td>1019.683333</td>\n",
       "    </tr>\n",
       "    <tr>\n",
       "      <th>1936-01-02 08:00:00</th>\n",
       "      <td>6.01750</td>\n",
       "      <td>1018.833333</td>\n",
       "      <td>0.1850</td>\n",
       "      <td>1019.566667</td>\n",
       "    </tr>\n",
       "    <tr>\n",
       "      <th>1936-01-02 09:00:00</th>\n",
       "      <td>5.97125</td>\n",
       "      <td>1018.800000</td>\n",
       "      <td>0.2775</td>\n",
       "      <td>1019.450000</td>\n",
       "    </tr>\n",
       "    <tr>\n",
       "      <th>1936-01-02 10:00:00</th>\n",
       "      <td>5.92500</td>\n",
       "      <td>1018.766667</td>\n",
       "      <td>0.3700</td>\n",
       "      <td>1019.333333</td>\n",
       "    </tr>\n",
       "    <tr>\n",
       "      <th>...</th>\n",
       "      <td>...</td>\n",
       "      <td>...</td>\n",
       "      <td>...</td>\n",
       "      <td>...</td>\n",
       "    </tr>\n",
       "    <tr>\n",
       "      <th>2018-11-01 19:00:00</th>\n",
       "      <td>16.11000</td>\n",
       "      <td>1029.300000</td>\n",
       "      <td>17.2200</td>\n",
       "      <td>1025.166667</td>\n",
       "    </tr>\n",
       "    <tr>\n",
       "      <th>2018-11-01 20:00:00</th>\n",
       "      <td>16.11000</td>\n",
       "      <td>1029.400000</td>\n",
       "      <td>17.2200</td>\n",
       "      <td>1025.433333</td>\n",
       "    </tr>\n",
       "    <tr>\n",
       "      <th>2018-11-01 21:00:00</th>\n",
       "      <td>15.56000</td>\n",
       "      <td>1029.500000</td>\n",
       "      <td>17.7800</td>\n",
       "      <td>1025.700000</td>\n",
       "    </tr>\n",
       "    <tr>\n",
       "      <th>2018-11-01 22:00:00</th>\n",
       "      <td>15.00000</td>\n",
       "      <td>1029.500000</td>\n",
       "      <td>16.1100</td>\n",
       "      <td>1025.700000</td>\n",
       "    </tr>\n",
       "    <tr>\n",
       "      <th>2018-11-01 23:00:00</th>\n",
       "      <td>15.00000</td>\n",
       "      <td>1029.500000</td>\n",
       "      <td>16.1100</td>\n",
       "      <td>1025.700000</td>\n",
       "    </tr>\n",
       "  </tbody>\n",
       "</table>\n",
       "<p>726114 rows × 4 columns</p>\n",
       "</div>"
      ]
     },
     "metadata": {},
     "execution_count": 23
    }
   ],
   "metadata": {
    "scrolled": true
   }
  },
  {
   "cell_type": "code",
   "execution_count": 24,
   "source": [
    "df[\"Temp, C\"].max()"
   ],
   "outputs": [
    {
     "output_type": "execute_result",
     "data": {
      "text/plain": [
       "47.22"
      ]
     },
     "metadata": {},
     "execution_count": 24
    }
   ],
   "metadata": {}
  },
  {
   "cell_type": "code",
   "execution_count": 25,
   "source": [
    "df"
   ],
   "outputs": [
    {
     "output_type": "execute_result",
     "data": {
      "text/plain": [
       "                                    Temp, C  SLP, hPa\n",
       "City           Date_Time                             \n",
       "Veliko Tarnovo 1936-07-01 06:00:00    21.11    1016.8\n",
       "               1936-07-01 18:00:00    22.78    1015.7\n",
       "               1936-07-02 06:00:00    21.11    1018.3\n",
       "               1936-07-02 18:00:00    23.89    1016.4\n",
       "               1936-07-03 06:00:00    22.22    1016.3\n",
       "...                                     ...       ...\n",
       "Sofia          2018-11-01 21:30:00    17.22       NaN\n",
       "               2018-11-01 22:00:00    16.11       NaN\n",
       "               2018-11-01 22:30:00    16.11       NaN\n",
       "               2018-11-01 23:00:00    16.11       NaN\n",
       "               2018-11-01 23:30:00    16.11       NaN\n",
       "\n",
       "[1186844 rows x 2 columns]"
      ],
      "text/html": [
       "<div>\n",
       "<style scoped>\n",
       "    .dataframe tbody tr th:only-of-type {\n",
       "        vertical-align: middle;\n",
       "    }\n",
       "\n",
       "    .dataframe tbody tr th {\n",
       "        vertical-align: top;\n",
       "    }\n",
       "\n",
       "    .dataframe thead th {\n",
       "        text-align: right;\n",
       "    }\n",
       "</style>\n",
       "<table border=\"1\" class=\"dataframe\">\n",
       "  <thead>\n",
       "    <tr style=\"text-align: right;\">\n",
       "      <th></th>\n",
       "      <th></th>\n",
       "      <th>Temp, C</th>\n",
       "      <th>SLP, hPa</th>\n",
       "    </tr>\n",
       "    <tr>\n",
       "      <th>City</th>\n",
       "      <th>Date_Time</th>\n",
       "      <th></th>\n",
       "      <th></th>\n",
       "    </tr>\n",
       "  </thead>\n",
       "  <tbody>\n",
       "    <tr>\n",
       "      <th rowspan=\"5\" valign=\"top\">Veliko Tarnovo</th>\n",
       "      <th>1936-07-01 06:00:00</th>\n",
       "      <td>21.11</td>\n",
       "      <td>1016.8</td>\n",
       "    </tr>\n",
       "    <tr>\n",
       "      <th>1936-07-01 18:00:00</th>\n",
       "      <td>22.78</td>\n",
       "      <td>1015.7</td>\n",
       "    </tr>\n",
       "    <tr>\n",
       "      <th>1936-07-02 06:00:00</th>\n",
       "      <td>21.11</td>\n",
       "      <td>1018.3</td>\n",
       "    </tr>\n",
       "    <tr>\n",
       "      <th>1936-07-02 18:00:00</th>\n",
       "      <td>23.89</td>\n",
       "      <td>1016.4</td>\n",
       "    </tr>\n",
       "    <tr>\n",
       "      <th>1936-07-03 06:00:00</th>\n",
       "      <td>22.22</td>\n",
       "      <td>1016.3</td>\n",
       "    </tr>\n",
       "    <tr>\n",
       "      <th>...</th>\n",
       "      <th>...</th>\n",
       "      <td>...</td>\n",
       "      <td>...</td>\n",
       "    </tr>\n",
       "    <tr>\n",
       "      <th rowspan=\"5\" valign=\"top\">Sofia</th>\n",
       "      <th>2018-11-01 21:30:00</th>\n",
       "      <td>17.22</td>\n",
       "      <td>NaN</td>\n",
       "    </tr>\n",
       "    <tr>\n",
       "      <th>2018-11-01 22:00:00</th>\n",
       "      <td>16.11</td>\n",
       "      <td>NaN</td>\n",
       "    </tr>\n",
       "    <tr>\n",
       "      <th>2018-11-01 22:30:00</th>\n",
       "      <td>16.11</td>\n",
       "      <td>NaN</td>\n",
       "    </tr>\n",
       "    <tr>\n",
       "      <th>2018-11-01 23:00:00</th>\n",
       "      <td>16.11</td>\n",
       "      <td>NaN</td>\n",
       "    </tr>\n",
       "    <tr>\n",
       "      <th>2018-11-01 23:30:00</th>\n",
       "      <td>16.11</td>\n",
       "      <td>NaN</td>\n",
       "    </tr>\n",
       "  </tbody>\n",
       "</table>\n",
       "<p>1186844 rows × 2 columns</p>\n",
       "</div>"
      ]
     },
     "metadata": {},
     "execution_count": 25
    }
   ],
   "metadata": {}
  },
  {
   "cell_type": "code",
   "execution_count": 26,
   "source": [
    "test1[\"Sofia\"][\"Temp, C\"].plot()"
   ],
   "outputs": [
    {
     "output_type": "execute_result",
     "data": {
      "text/plain": [
       "<AxesSubplot:xlabel='Date_Time'>"
      ]
     },
     "metadata": {},
     "execution_count": 26
    },
    {
     "output_type": "display_data",
     "data": {
      "text/plain": [
       "<Figure size 432x288 with 1 Axes>"
      ],
      "image/png": "[encoded data removed]"
     },
     "metadata": {
      "needs_background": "light"
     }
    }
   ],
   "metadata": {}
  },
  {
   "cell_type": "markdown",
   "source": [
    "There are some long periods with missing data prior to 1973.  As the data is more \"dense\" in the recent years (real measurements every 30 minutes, vs twice a day in the 1930-ies).  It will not be a huge loss if I drop all years prior to 1973.  Still almost 45 years of data left.\n",
    "\n",
    "Also, we can see that for some reason there's no data for Ruse and Veliko Tarnovo after 2013 (station name change?).  I will drop these two cities completely.  There will be 4 series left -- Sofia and Varna, temperature and pressure."
   ],
   "metadata": {}
  },
  {
   "cell_type": "code",
   "execution_count": 130,
   "source": [
    "#test1.drop(\"Ruse\", axis=1, inplace=True)"
   ],
   "outputs": [],
   "metadata": {}
  },
  {
   "cell_type": "code",
   "execution_count": 132,
   "source": [
    "#test1.drop(\"Veliko Tarnovo\", axis=1, inplace=True)"
   ],
   "outputs": [],
   "metadata": {}
  },
  {
   "cell_type": "code",
   "execution_count": 27,
   "source": [
    "test1"
   ],
   "outputs": [
    {
     "output_type": "execute_result",
     "data": {
      "text/plain": [
       "                        Varna                 Sofia             \n",
       "                      Temp, C     SLP, hPa  Temp, C     SLP, hPa\n",
       "Date_Time                                                       \n",
       "1936-01-02 06:00:00   6.11000  1018.900000   0.0000  1019.800000\n",
       "1936-01-02 07:00:00   6.06375  1018.866667   0.0925  1019.683333\n",
       "1936-01-02 08:00:00   6.01750  1018.833333   0.1850  1019.566667\n",
       "1936-01-02 09:00:00   5.97125  1018.800000   0.2775  1019.450000\n",
       "1936-01-02 10:00:00   5.92500  1018.766667   0.3700  1019.333333\n",
       "...                       ...          ...      ...          ...\n",
       "2018-11-01 19:00:00  16.11000  1029.300000  17.2200  1025.166667\n",
       "2018-11-01 20:00:00  16.11000  1029.400000  17.2200  1025.433333\n",
       "2018-11-01 21:00:00  15.56000  1029.500000  17.7800  1025.700000\n",
       "2018-11-01 22:00:00  15.00000  1029.500000  16.1100  1025.700000\n",
       "2018-11-01 23:00:00  15.00000  1029.500000  16.1100  1025.700000\n",
       "\n",
       "[726114 rows x 4 columns]"
      ],
      "text/html": [
       "<div>\n",
       "<style scoped>\n",
       "    .dataframe tbody tr th:only-of-type {\n",
       "        vertical-align: middle;\n",
       "    }\n",
       "\n",
       "    .dataframe tbody tr th {\n",
       "        vertical-align: top;\n",
       "    }\n",
       "\n",
       "    .dataframe thead tr th {\n",
       "        text-align: left;\n",
       "    }\n",
       "\n",
       "    .dataframe thead tr:last-of-type th {\n",
       "        text-align: right;\n",
       "    }\n",
       "</style>\n",
       "<table border=\"1\" class=\"dataframe\">\n",
       "  <thead>\n",
       "    <tr>\n",
       "      <th></th>\n",
       "      <th colspan=\"2\" halign=\"left\">Varna</th>\n",
       "      <th colspan=\"2\" halign=\"left\">Sofia</th>\n",
       "    </tr>\n",
       "    <tr>\n",
       "      <th></th>\n",
       "      <th>Temp, C</th>\n",
       "      <th>SLP, hPa</th>\n",
       "      <th>Temp, C</th>\n",
       "      <th>SLP, hPa</th>\n",
       "    </tr>\n",
       "    <tr>\n",
       "      <th>Date_Time</th>\n",
       "      <th></th>\n",
       "      <th></th>\n",
       "      <th></th>\n",
       "      <th></th>\n",
       "    </tr>\n",
       "  </thead>\n",
       "  <tbody>\n",
       "    <tr>\n",
       "      <th>1936-01-02 06:00:00</th>\n",
       "      <td>6.11000</td>\n",
       "      <td>1018.900000</td>\n",
       "      <td>0.0000</td>\n",
       "      <td>1019.800000</td>\n",
       "    </tr>\n",
       "    <tr>\n",
       "      <th>1936-01-02 07:00:00</th>\n",
       "      <td>6.06375</td>\n",
       "      <td>1018.866667</td>\n",
       "      <td>0.0925</td>\n",
       "      <td>1019.683333</td>\n",
       "    </tr>\n",
       "    <tr>\n",
       "      <th>1936-01-02 08:00:00</th>\n",
       "      <td>6.01750</td>\n",
       "      <td>1018.833333</td>\n",
       "      <td>0.1850</td>\n",
       "      <td>1019.566667</td>\n",
       "    </tr>\n",
       "    <tr>\n",
       "      <th>1936-01-02 09:00:00</th>\n",
       "      <td>5.97125</td>\n",
       "      <td>1018.800000</td>\n",
       "      <td>0.2775</td>\n",
       "      <td>1019.450000</td>\n",
       "    </tr>\n",
       "    <tr>\n",
       "      <th>1936-01-02 10:00:00</th>\n",
       "      <td>5.92500</td>\n",
       "      <td>1018.766667</td>\n",
       "      <td>0.3700</td>\n",
       "      <td>1019.333333</td>\n",
       "    </tr>\n",
       "    <tr>\n",
       "      <th>...</th>\n",
       "      <td>...</td>\n",
       "      <td>...</td>\n",
       "      <td>...</td>\n",
       "      <td>...</td>\n",
       "    </tr>\n",
       "    <tr>\n",
       "      <th>2018-11-01 19:00:00</th>\n",
       "      <td>16.11000</td>\n",
       "      <td>1029.300000</td>\n",
       "      <td>17.2200</td>\n",
       "      <td>1025.166667</td>\n",
       "    </tr>\n",
       "    <tr>\n",
       "      <th>2018-11-01 20:00:00</th>\n",
       "      <td>16.11000</td>\n",
       "      <td>1029.400000</td>\n",
       "      <td>17.2200</td>\n",
       "      <td>1025.433333</td>\n",
       "    </tr>\n",
       "    <tr>\n",
       "      <th>2018-11-01 21:00:00</th>\n",
       "      <td>15.56000</td>\n",
       "      <td>1029.500000</td>\n",
       "      <td>17.7800</td>\n",
       "      <td>1025.700000</td>\n",
       "    </tr>\n",
       "    <tr>\n",
       "      <th>2018-11-01 22:00:00</th>\n",
       "      <td>15.00000</td>\n",
       "      <td>1029.500000</td>\n",
       "      <td>16.1100</td>\n",
       "      <td>1025.700000</td>\n",
       "    </tr>\n",
       "    <tr>\n",
       "      <th>2018-11-01 23:00:00</th>\n",
       "      <td>15.00000</td>\n",
       "      <td>1029.500000</td>\n",
       "      <td>16.1100</td>\n",
       "      <td>1025.700000</td>\n",
       "    </tr>\n",
       "  </tbody>\n",
       "</table>\n",
       "<p>726114 rows × 4 columns</p>\n",
       "</div>"
      ]
     },
     "metadata": {},
     "execution_count": 27
    }
   ],
   "metadata": {}
  },
  {
   "cell_type": "code",
   "execution_count": 28,
   "source": [
    "np.save(\"weather.npy\", test1.values)\r\n",
    "# NumPy binary format is the fastest and generates smallest files\r\n",
    "# but the labels are not saved -- try the new pandas to_pickle instead."
   ],
   "outputs": [],
   "metadata": {}
  },
  {
   "cell_type": "code",
   "execution_count": 29,
   "source": [
    "test1[\"Sofia\"][\"Temp, C\"]['2013-01':'2013-12'].plot()"
   ],
   "outputs": [
    {
     "output_type": "execute_result",
     "data": {
      "text/plain": [
       "<AxesSubplot:xlabel='Date_Time'>"
      ]
     },
     "metadata": {},
     "execution_count": 29
    },
    {
     "output_type": "display_data",
     "data": {
      "text/plain": [
       "<Figure size 432x288 with 1 Axes>"
      ],
      "image/png": "[encoded data removed]"
     },
     "metadata": {
      "needs_background": "light"
     }
    }
   ],
   "metadata": {}
  },
  {
   "cell_type": "code",
   "execution_count": 30,
   "source": [
    "test1[\"Sofia\"][\"Temp, C\"]['2014-01':'2014-12'].plot()"
   ],
   "outputs": [
    {
     "output_type": "execute_result",
     "data": {
      "text/plain": [
       "<AxesSubplot:xlabel='Date_Time'>"
      ]
     },
     "metadata": {},
     "execution_count": 30
    },
    {
     "output_type": "display_data",
     "data": {
      "text/plain": [
       "<Figure size 432x288 with 1 Axes>"
      ],
      "image/png": "[encoded data removed]"
     },
     "metadata": {
      "needs_background": "light"
     }
    }
   ],
   "metadata": {}
  },
  {
   "cell_type": "code",
   "execution_count": 31,
   "source": [
    "test1[\"Sofia\"][\"Temp, C\"]['2017-01':'2017-12'].plot()"
   ],
   "outputs": [
    {
     "output_type": "execute_result",
     "data": {
      "text/plain": [
       "<AxesSubplot:xlabel='Date_Time'>"
      ]
     },
     "metadata": {},
     "execution_count": 31
    },
    {
     "output_type": "display_data",
     "data": {
      "text/plain": [
       "<Figure size 432x288 with 1 Axes>"
      ],
      "image/png": "[encoded data removed]"
     },
     "metadata": {
      "needs_background": "light"
     }
    }
   ],
   "metadata": {}
  },
  {
   "cell_type": "code",
   "execution_count": 32,
   "source": [
    "test1[\"Sofia\"][\"SLP, hPa\"]['2013-01':'2013-12'].plot()"
   ],
   "outputs": [
    {
     "output_type": "execute_result",
     "data": {
      "text/plain": [
       "<AxesSubplot:xlabel='Date_Time'>"
      ]
     },
     "metadata": {},
     "execution_count": 32
    },
    {
     "output_type": "display_data",
     "data": {
      "text/plain": [
       "<Figure size 432x288 with 1 Axes>"
      ],
      "image/png": "[encoded data removed]"
     },
     "metadata": {
      "needs_background": "light"
     }
    }
   ],
   "metadata": {}
  },
  {
   "cell_type": "code",
   "execution_count": 33,
   "source": [
    "test1[\"Sofia\"][\"Temp, C\"]['2017-01-01':'2017-01-30'].plot()"
   ],
   "outputs": [
    {
     "output_type": "execute_result",
     "data": {
      "text/plain": [
       "<AxesSubplot:xlabel='Date_Time'>"
      ]
     },
     "metadata": {},
     "execution_count": 33
    },
    {
     "output_type": "display_data",
     "data": {
      "text/plain": [
       "<Figure size 432x288 with 1 Axes>"
      ],
      "image/png": "[encoded data removed]"
     },
     "metadata": {
      "needs_background": "light"
     }
    }
   ],
   "metadata": {}
  },
  {
   "cell_type": "code",
   "execution_count": 34,
   "source": [
    "test1.info()"
   ],
   "outputs": [
    {
     "output_type": "stream",
     "name": "stdout",
     "text": [
      "<class 'pandas.core.frame.DataFrame'>\n",
      "DatetimeIndex: 726114 entries, 1936-01-02 06:00:00 to 2018-11-01 23:00:00\n",
      "Freq: 60T\n",
      "Data columns (total 4 columns):\n",
      " #   Column             Non-Null Count   Dtype  \n",
      "---  ------             --------------   -----  \n",
      " 0   (Varna, Temp, C)   726114 non-null  float64\n",
      " 1   (Varna, SLP, hPa)  726114 non-null  float64\n",
      " 2   (Sofia, Temp, C)   726114 non-null  float64\n",
      " 3   (Sofia, SLP, hPa)  726114 non-null  float64\n",
      "dtypes: float64(4)\n",
      "memory usage: 43.8 MB\n"
     ]
    }
   ],
   "metadata": {}
  },
  {
   "cell_type": "markdown",
   "source": [
    "## Add Data\n",
    "\n",
    "As suggested in [2], we can add some input signals to the data that may help our model in making predictions.\n",
    "\n",
    "> For example, given just a temperature of 10 degrees Celcius the model wouldn't know whether that temperature was measured during the day or the night, or during summer or winter. The model would have to infer this from the surrounding data-points which might not be very accurate for determining whether it's an abnormally warm winter, or an abnormally cold summer, or whether it's day or night. So having this information could make a big difference in how accurately the model can predict the next output.\n",
    "[2]\n",
    "\n",
    "Although the dataset does contain the date and time information for each observation, it is only used in the index so as to order the data. We will therefore add separate input-signals to the data-et for the day-of-year (between 1 and 366) and the hour-of-day (between 0 and 23)."
   ],
   "metadata": {}
  },
  {
   "cell_type": "code",
   "execution_count": 35,
   "source": [
    "test1['Various', 'Day'] = test1.index.dayofyear"
   ],
   "outputs": [],
   "metadata": {}
  },
  {
   "cell_type": "code",
   "execution_count": 36,
   "source": [
    "test1['Various', 'Hour'] = test1.index.hour"
   ],
   "outputs": [],
   "metadata": {}
  },
  {
   "cell_type": "code",
   "execution_count": 37,
   "source": [
    "test1"
   ],
   "outputs": [
    {
     "output_type": "execute_result",
     "data": {
      "text/plain": [
       "                        Varna                 Sofia              Various     \n",
       "                      Temp, C     SLP, hPa  Temp, C     SLP, hPa     Day Hour\n",
       "Date_Time                                                                    \n",
       "1936-01-02 06:00:00   6.11000  1018.900000   0.0000  1019.800000       2    6\n",
       "1936-01-02 07:00:00   6.06375  1018.866667   0.0925  1019.683333       2    7\n",
       "1936-01-02 08:00:00   6.01750  1018.833333   0.1850  1019.566667       2    8\n",
       "1936-01-02 09:00:00   5.97125  1018.800000   0.2775  1019.450000       2    9\n",
       "1936-01-02 10:00:00   5.92500  1018.766667   0.3700  1019.333333       2   10\n",
       "...                       ...          ...      ...          ...     ...  ...\n",
       "2018-11-01 19:00:00  16.11000  1029.300000  17.2200  1025.166667     305   19\n",
       "2018-11-01 20:00:00  16.11000  1029.400000  17.2200  1025.433333     305   20\n",
       "2018-11-01 21:00:00  15.56000  1029.500000  17.7800  1025.700000     305   21\n",
       "2018-11-01 22:00:00  15.00000  1029.500000  16.1100  1025.700000     305   22\n",
       "2018-11-01 23:00:00  15.00000  1029.500000  16.1100  1025.700000     305   23\n",
       "\n",
       "[726114 rows x 6 columns]"
      ],
      "text/html": [
       "<div>\n",
       "<style scoped>\n",
       "    .dataframe tbody tr th:only-of-type {\n",
       "        vertical-align: middle;\n",
       "    }\n",
       "\n",
       "    .dataframe tbody tr th {\n",
       "        vertical-align: top;\n",
       "    }\n",
       "\n",
       "    .dataframe thead tr th {\n",
       "        text-align: left;\n",
       "    }\n",
       "\n",
       "    .dataframe thead tr:last-of-type th {\n",
       "        text-align: right;\n",
       "    }\n",
       "</style>\n",
       "<table border=\"1\" class=\"dataframe\">\n",
       "  <thead>\n",
       "    <tr>\n",
       "      <th></th>\n",
       "      <th colspan=\"2\" halign=\"left\">Varna</th>\n",
       "      <th colspan=\"2\" halign=\"left\">Sofia</th>\n",
       "      <th colspan=\"2\" halign=\"left\">Various</th>\n",
       "    </tr>\n",
       "    <tr>\n",
       "      <th></th>\n",
       "      <th>Temp, C</th>\n",
       "      <th>SLP, hPa</th>\n",
       "      <th>Temp, C</th>\n",
       "      <th>SLP, hPa</th>\n",
       "      <th>Day</th>\n",
       "      <th>Hour</th>\n",
       "    </tr>\n",
       "    <tr>\n",
       "      <th>Date_Time</th>\n",
       "      <th></th>\n",
       "      <th></th>\n",
       "      <th></th>\n",
       "      <th></th>\n",
       "      <th></th>\n",
       "      <th></th>\n",
       "    </tr>\n",
       "  </thead>\n",
       "  <tbody>\n",
       "    <tr>\n",
       "      <th>1936-01-02 06:00:00</th>\n",
       "      <td>6.11000</td>\n",
       "      <td>1018.900000</td>\n",
       "      <td>0.0000</td>\n",
       "      <td>1019.800000</td>\n",
       "      <td>2</td>\n",
       "      <td>6</td>\n",
       "    </tr>\n",
       "    <tr>\n",
       "      <th>1936-01-02 07:00:00</th>\n",
       "      <td>6.06375</td>\n",
       "      <td>1018.866667</td>\n",
       "      <td>0.0925</td>\n",
       "      <td>1019.683333</td>\n",
       "      <td>2</td>\n",
       "      <td>7</td>\n",
       "    </tr>\n",
       "    <tr>\n",
       "      <th>1936-01-02 08:00:00</th>\n",
       "      <td>6.01750</td>\n",
       "      <td>1018.833333</td>\n",
       "      <td>0.1850</td>\n",
       "      <td>1019.566667</td>\n",
       "      <td>2</td>\n",
       "      <td>8</td>\n",
       "    </tr>\n",
       "    <tr>\n",
       "      <th>1936-01-02 09:00:00</th>\n",
       "      <td>5.97125</td>\n",
       "      <td>1018.800000</td>\n",
       "      <td>0.2775</td>\n",
       "      <td>1019.450000</td>\n",
       "      <td>2</td>\n",
       "      <td>9</td>\n",
       "    </tr>\n",
       "    <tr>\n",
       "      <th>1936-01-02 10:00:00</th>\n",
       "      <td>5.92500</td>\n",
       "      <td>1018.766667</td>\n",
       "      <td>0.3700</td>\n",
       "      <td>1019.333333</td>\n",
       "      <td>2</td>\n",
       "      <td>10</td>\n",
       "    </tr>\n",
       "    <tr>\n",
       "      <th>...</th>\n",
       "      <td>...</td>\n",
       "      <td>...</td>\n",
       "      <td>...</td>\n",
       "      <td>...</td>\n",
       "      <td>...</td>\n",
       "      <td>...</td>\n",
       "    </tr>\n",
       "    <tr>\n",
       "      <th>2018-11-01 19:00:00</th>\n",
       "      <td>16.11000</td>\n",
       "      <td>1029.300000</td>\n",
       "      <td>17.2200</td>\n",
       "      <td>1025.166667</td>\n",
       "      <td>305</td>\n",
       "      <td>19</td>\n",
       "    </tr>\n",
       "    <tr>\n",
       "      <th>2018-11-01 20:00:00</th>\n",
       "      <td>16.11000</td>\n",
       "      <td>1029.400000</td>\n",
       "      <td>17.2200</td>\n",
       "      <td>1025.433333</td>\n",
       "      <td>305</td>\n",
       "      <td>20</td>\n",
       "    </tr>\n",
       "    <tr>\n",
       "      <th>2018-11-01 21:00:00</th>\n",
       "      <td>15.56000</td>\n",
       "      <td>1029.500000</td>\n",
       "      <td>17.7800</td>\n",
       "      <td>1025.700000</td>\n",
       "      <td>305</td>\n",
       "      <td>21</td>\n",
       "    </tr>\n",
       "    <tr>\n",
       "      <th>2018-11-01 22:00:00</th>\n",
       "      <td>15.00000</td>\n",
       "      <td>1029.500000</td>\n",
       "      <td>16.1100</td>\n",
       "      <td>1025.700000</td>\n",
       "      <td>305</td>\n",
       "      <td>22</td>\n",
       "    </tr>\n",
       "    <tr>\n",
       "      <th>2018-11-01 23:00:00</th>\n",
       "      <td>15.00000</td>\n",
       "      <td>1029.500000</td>\n",
       "      <td>16.1100</td>\n",
       "      <td>1025.700000</td>\n",
       "      <td>305</td>\n",
       "      <td>23</td>\n",
       "    </tr>\n",
       "  </tbody>\n",
       "</table>\n",
       "<p>726114 rows × 6 columns</p>\n",
       "</div>"
      ]
     },
     "metadata": {},
     "execution_count": 37
    }
   ],
   "metadata": {}
  },
  {
   "cell_type": "code",
   "execution_count": 38,
   "source": [
    "test1.info()"
   ],
   "outputs": [
    {
     "output_type": "stream",
     "name": "stdout",
     "text": [
      "<class 'pandas.core.frame.DataFrame'>\n",
      "DatetimeIndex: 726114 entries, 1936-01-02 06:00:00 to 2018-11-01 23:00:00\n",
      "Freq: 60T\n",
      "Data columns (total 6 columns):\n",
      " #   Column             Non-Null Count   Dtype  \n",
      "---  ------             --------------   -----  \n",
      " 0   (Varna, Temp, C)   726114 non-null  float64\n",
      " 1   (Varna, SLP, hPa)  726114 non-null  float64\n",
      " 2   (Sofia, Temp, C)   726114 non-null  float64\n",
      " 3   (Sofia, SLP, hPa)  726114 non-null  float64\n",
      " 4   (Various, Day)     726114 non-null  int64  \n",
      " 5   (Various, Hour)    726114 non-null  int64  \n",
      "dtypes: float64(4), int64(2)\n",
      "memory usage: 54.9 MB\n"
     ]
    }
   ],
   "metadata": {}
  },
  {
   "cell_type": "code",
   "execution_count": 39,
   "source": [
    "test1.values.shape"
   ],
   "outputs": [
    {
     "output_type": "execute_result",
     "data": {
      "text/plain": [
       "(726114, 6)"
      ]
     },
     "metadata": {},
     "execution_count": 39
    }
   ],
   "metadata": {}
  },
  {
   "cell_type": "code",
   "execution_count": 40,
   "source": [
    "# remove all before 1973 due to some gaps\r\n",
    "test2 = test1[\"1973\":]"
   ],
   "outputs": [],
   "metadata": {}
  },
  {
   "cell_type": "code",
   "execution_count": 41,
   "source": [
    "test2.info()"
   ],
   "outputs": [
    {
     "output_type": "stream",
     "name": "stdout",
     "text": [
      "<class 'pandas.core.frame.DataFrame'>\n",
      "DatetimeIndex: 401784 entries, 1973-01-01 00:00:00 to 2018-11-01 23:00:00\n",
      "Freq: 60T\n",
      "Data columns (total 6 columns):\n",
      " #   Column             Non-Null Count   Dtype  \n",
      "---  ------             --------------   -----  \n",
      " 0   (Varna, Temp, C)   401784 non-null  float64\n",
      " 1   (Varna, SLP, hPa)  401784 non-null  float64\n",
      " 2   (Sofia, Temp, C)   401784 non-null  float64\n",
      " 3   (Sofia, SLP, hPa)  401784 non-null  float64\n",
      " 4   (Various, Day)     401784 non-null  int64  \n",
      " 5   (Various, Hour)    401784 non-null  int64  \n",
      "dtypes: float64(4), int64(2)\n",
      "memory usage: 21.5 MB\n"
     ]
    }
   ],
   "metadata": {}
  },
  {
   "cell_type": "code",
   "execution_count": 279,
   "source": [
    "#np.savez(\"weather.npz\", test2.values)\r\n",
    "# experiments"
   ],
   "outputs": [],
   "metadata": {}
  },
  {
   "cell_type": "code",
   "execution_count": 280,
   "source": [
    "#data = np.load('weather.npy')\r\n",
    "# more experiments"
   ],
   "outputs": [],
   "metadata": {}
  },
  {
   "cell_type": "code",
   "execution_count": 43,
   "source": [
    "test2"
   ],
   "outputs": [
    {
     "output_type": "execute_result",
     "data": {
      "text/plain": [
       "                         Varna                Sofia              Various     \n",
       "                       Temp, C     SLP, hPa Temp, C     SLP, hPa     Day Hour\n",
       "Date_Time                                                                    \n",
       "1973-01-01 00:00:00  -2.780000  1046.300000   -3.89  1047.100000       1    0\n",
       "1973-01-01 01:00:00  -3.520000  1046.266667   -3.89  1047.133333       1    1\n",
       "1973-01-01 02:00:00  -4.260000  1046.233333   -3.89  1047.166667       1    2\n",
       "1973-01-01 03:00:00  -5.000000  1046.200000   -3.89  1047.200000       1    3\n",
       "1973-01-01 04:00:00  -3.981667  1046.566667   -5.00  1047.466667       1    4\n",
       "...                        ...          ...     ...          ...     ...  ...\n",
       "2018-11-01 19:00:00  16.110000  1029.300000   17.22  1025.166667     305   19\n",
       "2018-11-01 20:00:00  16.110000  1029.400000   17.22  1025.433333     305   20\n",
       "2018-11-01 21:00:00  15.560000  1029.500000   17.78  1025.700000     305   21\n",
       "2018-11-01 22:00:00  15.000000  1029.500000   16.11  1025.700000     305   22\n",
       "2018-11-01 23:00:00  15.000000  1029.500000   16.11  1025.700000     305   23\n",
       "\n",
       "[401784 rows x 6 columns]"
      ],
      "text/html": [
       "<div>\n",
       "<style scoped>\n",
       "    .dataframe tbody tr th:only-of-type {\n",
       "        vertical-align: middle;\n",
       "    }\n",
       "\n",
       "    .dataframe tbody tr th {\n",
       "        vertical-align: top;\n",
       "    }\n",
       "\n",
       "    .dataframe thead tr th {\n",
       "        text-align: left;\n",
       "    }\n",
       "\n",
       "    .dataframe thead tr:last-of-type th {\n",
       "        text-align: right;\n",
       "    }\n",
       "</style>\n",
       "<table border=\"1\" class=\"dataframe\">\n",
       "  <thead>\n",
       "    <tr>\n",
       "      <th></th>\n",
       "      <th colspan=\"2\" halign=\"left\">Varna</th>\n",
       "      <th colspan=\"2\" halign=\"left\">Sofia</th>\n",
       "      <th colspan=\"2\" halign=\"left\">Various</th>\n",
       "    </tr>\n",
       "    <tr>\n",
       "      <th></th>\n",
       "      <th>Temp, C</th>\n",
       "      <th>SLP, hPa</th>\n",
       "      <th>Temp, C</th>\n",
       "      <th>SLP, hPa</th>\n",
       "      <th>Day</th>\n",
       "      <th>Hour</th>\n",
       "    </tr>\n",
       "    <tr>\n",
       "      <th>Date_Time</th>\n",
       "      <th></th>\n",
       "      <th></th>\n",
       "      <th></th>\n",
       "      <th></th>\n",
       "      <th></th>\n",
       "      <th></th>\n",
       "    </tr>\n",
       "  </thead>\n",
       "  <tbody>\n",
       "    <tr>\n",
       "      <th>1973-01-01 00:00:00</th>\n",
       "      <td>-2.780000</td>\n",
       "      <td>1046.300000</td>\n",
       "      <td>-3.89</td>\n",
       "      <td>1047.100000</td>\n",
       "      <td>1</td>\n",
       "      <td>0</td>\n",
       "    </tr>\n",
       "    <tr>\n",
       "      <th>1973-01-01 01:00:00</th>\n",
       "      <td>-3.520000</td>\n",
       "      <td>1046.266667</td>\n",
       "      <td>-3.89</td>\n",
       "      <td>1047.133333</td>\n",
       "      <td>1</td>\n",
       "      <td>1</td>\n",
       "    </tr>\n",
       "    <tr>\n",
       "      <th>1973-01-01 02:00:00</th>\n",
       "      <td>-4.260000</td>\n",
       "      <td>1046.233333</td>\n",
       "      <td>-3.89</td>\n",
       "      <td>1047.166667</td>\n",
       "      <td>1</td>\n",
       "      <td>2</td>\n",
       "    </tr>\n",
       "    <tr>\n",
       "      <th>1973-01-01 03:00:00</th>\n",
       "      <td>-5.000000</td>\n",
       "      <td>1046.200000</td>\n",
       "      <td>-3.89</td>\n",
       "      <td>1047.200000</td>\n",
       "      <td>1</td>\n",
       "      <td>3</td>\n",
       "    </tr>\n",
       "    <tr>\n",
       "      <th>1973-01-01 04:00:00</th>\n",
       "      <td>-3.981667</td>\n",
       "      <td>1046.566667</td>\n",
       "      <td>-5.00</td>\n",
       "      <td>1047.466667</td>\n",
       "      <td>1</td>\n",
       "      <td>4</td>\n",
       "    </tr>\n",
       "    <tr>\n",
       "      <th>...</th>\n",
       "      <td>...</td>\n",
       "      <td>...</td>\n",
       "      <td>...</td>\n",
       "      <td>...</td>\n",
       "      <td>...</td>\n",
       "      <td>...</td>\n",
       "    </tr>\n",
       "    <tr>\n",
       "      <th>2018-11-01 19:00:00</th>\n",
       "      <td>16.110000</td>\n",
       "      <td>1029.300000</td>\n",
       "      <td>17.22</td>\n",
       "      <td>1025.166667</td>\n",
       "      <td>305</td>\n",
       "      <td>19</td>\n",
       "    </tr>\n",
       "    <tr>\n",
       "      <th>2018-11-01 20:00:00</th>\n",
       "      <td>16.110000</td>\n",
       "      <td>1029.400000</td>\n",
       "      <td>17.22</td>\n",
       "      <td>1025.433333</td>\n",
       "      <td>305</td>\n",
       "      <td>20</td>\n",
       "    </tr>\n",
       "    <tr>\n",
       "      <th>2018-11-01 21:00:00</th>\n",
       "      <td>15.560000</td>\n",
       "      <td>1029.500000</td>\n",
       "      <td>17.78</td>\n",
       "      <td>1025.700000</td>\n",
       "      <td>305</td>\n",
       "      <td>21</td>\n",
       "    </tr>\n",
       "    <tr>\n",
       "      <th>2018-11-01 22:00:00</th>\n",
       "      <td>15.000000</td>\n",
       "      <td>1029.500000</td>\n",
       "      <td>16.11</td>\n",
       "      <td>1025.700000</td>\n",
       "      <td>305</td>\n",
       "      <td>22</td>\n",
       "    </tr>\n",
       "    <tr>\n",
       "      <th>2018-11-01 23:00:00</th>\n",
       "      <td>15.000000</td>\n",
       "      <td>1029.500000</td>\n",
       "      <td>16.11</td>\n",
       "      <td>1025.700000</td>\n",
       "      <td>305</td>\n",
       "      <td>23</td>\n",
       "    </tr>\n",
       "  </tbody>\n",
       "</table>\n",
       "<p>401784 rows × 6 columns</p>\n",
       "</div>"
      ]
     },
     "metadata": {},
     "execution_count": 43
    }
   ],
   "metadata": {}
  },
  {
   "cell_type": "code",
   "execution_count": 44,
   "source": [
    "test2.to_pickle(\"weather_VAR_SOF1\")"
   ],
   "outputs": [],
   "metadata": {}
  },
  {
   "cell_type": "markdown",
   "source": [
    "## References\r\n",
    "\r\n",
    "\r\n",
    "1. Magnus Erik Hvass Pedersen, [TensorFlow-Tutorials][1]\r\n",
    "/ [GitHub](https://github.com/Hvass-Labs/TensorFlow-Tutorials) / [Videos on YouTube](https://www.youtube.com/playlist?list=PL9Hr9sNUjfsmEu1ZniY0XpHSzl5uihcXZ)\r\n",
    "\r\n",
    "2. Ognian Dantchev, Multivariate Time Series Forecasting with Keras and TensorFlow, [GitHub](https://github.com/ogniandantchev/dilated_causal_cnn_time_series)\r\n",
    "\r\n",
    "\r\n",
    "\r\n",
    "[1]: http://www.hvass-labs.org/\r\n",
    "\r\n",
    "[2]: https://github.com/ogniandantchev/dilated_causal_cnn_time_series\r\n",
    "\r\n"
   ],
   "metadata": {}
  },
  {
   "cell_type": "code",
   "execution_count": null,
   "source": [],
   "outputs": [],
   "metadata": {}
  }
 ],
 "metadata": {
  "interpreter": {
   "hash": "3025d96527635b4cd85e7eb0c64b9aca0f97aac2932cf6906f257c965d97de9d"
  },
  "kernelspec": {
   "display_name": "Python 3",
   "language": "python",
   "name": "python3"
  },
  "language_info": {
   "codemirror_mode": {
    "name": "ipython",
    "version": 3
   },
   "file_extension": ".py",
   "mimetype": "text/x-python",
   "name": "python",
   "nbconvert_exporter": "python",
   "pygments_lexer": "ipython3",
   "version": "3.8.8"
  }
 },
 "nbformat": 4,
 "nbformat_minor": 4
}