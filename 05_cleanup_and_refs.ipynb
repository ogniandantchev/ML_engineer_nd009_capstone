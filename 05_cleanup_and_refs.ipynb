{
 "metadata": {
  "language_info": {
   "codemirror_mode": {
    "name": "ipython",
    "version": 3
   },
   "file_extension": ".py",
   "mimetype": "text/x-python",
   "name": "python",
   "nbconvert_exporter": "python",
   "pygments_lexer": "ipython3",
   "version": 3
  },
  "orig_nbformat": 4
 },
 "nbformat": 4,
 "nbformat_minor": 2,
 "cells": [
  {
   "source": [
    "# Cleanup, TODO and References\n",
    "\n",
    "---\n",
    "\n",
    "## Cleanup\n",
    "\n",
    "The cleanup procedure for the AWS resources follows closely the Amazon Forecast Tutorial here:\n",
    "\n",
    "https://github.com/aws-samples/amazon-forecast-samples/blob/master/notebooks/basic/Tutorial/4.Cleanup.ipynb\n",
    "\n",
    "\n",
    "## TODO:\n",
    "\n",
    "Multivariate\n",
    "compare metrics MAE, RMSE, MAPE, WAPE\n",
    "\n",
    "\n",
    "## References\n",
    "\n"
   ],
   "cell_type": "markdown",
   "metadata": {}
  },
  {
   "cell_type": "code",
   "execution_count": null,
   "metadata": {},
   "outputs": [],
   "source": [
    "\n",
    "import sys\n",
    "import os\n",
    "import json\n",
    "import time\n",
    "\n",
    "import boto3\n",
    "import pandas as pd\n",
    "\n",
    "import util"
   ]
  },
  {
   "cell_type": "code",
   "execution_count": null,
   "metadata": {},
   "outputs": [],
   "source": [
    "# Retrieve  shared variables from the earlier notebooks.\n",
    "%store -r"
   ]
  },
  {
   "cell_type": "code",
   "execution_count": null,
   "metadata": {},
   "outputs": [],
   "source": [
    "# %store -r\n",
    "\n",
    "# # Print your choices from first notebook\n",
    "# print(f\"item_id = {item_id}\")\n",
    "# print(f\"project = {PROJECT}\")\n",
    "# print(f\"data_version = {DATA_VERSION}\")\n",
    "# print(f\"Forecast length = {FORECAST_LENGTH}\")\n",
    "# print(f\"Dataset frequency = {DATASET_FREQUENCY}\")\n",
    "# print(f\"Timestamp format = {TIMESTAMP_FORMAT}\")\n",
    "# print(f\"dataset_group_arn = {dataset_group_arn}\")\n",
    "# print(f\"role_arn = {role_arn}\")\n",
    "# %store -r bucket_name\n",
    "# print(f\"bucket_name = {bucket_name}\")\n",
    "# %store -r region\n",
    "# print(f\"region = {region}\")"
   ]
  },
  {
   "cell_type": "code",
   "execution_count": null,
   "metadata": {},
   "outputs": [],
   "source": [
    "# connect to the Forecast APIs via the SDK.\n",
    "\n",
    "ession = boto3.Session(region_name= region) \n",
    "forecast = session.client(service_name= 'forecast') \n",
    "forecastquery = session.client(service_name= 'forecastquery')"
   ]
  },
  {
   "cell_type": "code",
   "execution_count": null,
   "metadata": {},
   "outputs": [],
   "source": [
    "\n",
    "# Define the Things to Cleanup\n",
    "# In the previous notebooks several variables were stored at the end of each.  Now that they have been retrieved above, the cells below will delete the items that were created one at a time until all items that were created have been removed. \n",
    "# For a parent resource, all its child resources can be deleted using `delete_resource_tree` -- see AWS DeleteResourceTree API:\n",
    "# https://docs.aws.amazon.com/forecast/latest/dg/API_DeleteResourceTree.html\n",
    "# Bellow cell uses `delete_resource_tree` to delete the predictor resource and all its child resources such as Forecasts, PredictorBacktestExportJobs and ForecastExportJobs."
   ]
  },
  {
   "cell_type": "code",
   "execution_count": null,
   "metadata": {},
   "outputs": [],
   "source": [
    "# Delete predictor and all its child resources such as Forecasts, PredictorBacktestExportJobs and ForecastExportJobs \n",
    "util.wait_till_delete(lambda: forecast.delete_resource_tree(ResourceArn = predictor_arn_deep_ar))"
   ]
  },
  {
   "cell_type": "code",
   "execution_count": null,
   "metadata": {},
   "outputs": [],
   "source": [
    "# Delete the target time series dataset import job\n",
    "util.wait_till_delete(lambda: forecast.delete_dataset_import_job(DatasetImportJobArn=ts_dataset_import_job_arn))"
   ]
  },
  {
   "cell_type": "code",
   "execution_count": null,
   "metadata": {},
   "outputs": [],
   "source": [
    "# Delete the target time series dataset\n",
    "util.wait_till_delete(lambda: forecast.delete_dataset(DatasetArn=ts_dataset_arn))"
   ]
  },
  {
   "cell_type": "code",
   "execution_count": null,
   "metadata": {},
   "outputs": [],
   "source": [
    "# Delete dataset group\n",
    "util.wait_till_delete(lambda: forecast.delete_dataset_group(DatasetGroupArn=dataset_group_arn))"
   ]
  },
  {
   "cell_type": "code",
   "execution_count": null,
   "metadata": {},
   "outputs": [],
   "source": [
    "# Delete the files in S3\n",
    "boto3.Session().resource('s3').Bucket(bucket_name).Object(key).delete()"
   ]
  },
  {
   "cell_type": "code",
   "execution_count": null,
   "metadata": {},
   "outputs": [],
   "source": [
    "# IAM Role and Policy Cleanup\n",
    "# Remove the policies that were attached to a role and then to delete it. \n",
    "\n",
    "\n",
    "util.delete_iam_role( role_arn )\n"
   ]
  },
  {
   "source": [
    "## TODO:\n"
   ],
   "cell_type": "markdown",
   "metadata": {}
  },
  {
   "source": [
    "## References\n",
    "\n"
   ],
   "cell_type": "markdown",
   "metadata": {}
  }
 ]
}