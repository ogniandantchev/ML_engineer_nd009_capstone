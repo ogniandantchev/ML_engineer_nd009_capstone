{
 "metadata": {
  "language_info": {
   "codemirror_mode": {
    "name": "ipython",
    "version": 3
   },
   "file_extension": ".py",
   "mimetype": "text/x-python",
   "name": "python",
   "nbconvert_exporter": "python",
   "pygments_lexer": "ipython3",
   "version": 3
  },
  "orig_nbformat": 4
 },
 "nbformat": 4,
 "nbformat_minor": 2,
 "cells": [
  {
   "cell_type": "markdown",
   "source": [
    "# Cleanup, TODO and References\n",
    "\n",
    "---\n",
    "\n",
    "## Cleanup\n",
    "\n",
    "The cleanup procedure for the AWS resources follows closely the Amazon Forecast Tutorial here:\n",
    "\n",
    "https://github.com/aws-samples/amazon-forecast-samples/blob/master/notebooks/basic/Tutorial/4.Cleanup.ipynb\n",
    "\n",
    "\n",
    "## TODO:\n",
    "\n",
    "Multivariate\n",
    "compare metrics MAE, RMSE, MAPE, WAPE\n",
    "\n",
    "\n",
    "## References\n",
    "\n"
   ],
   "metadata": {}
  },
  {
   "cell_type": "code",
   "execution_count": null,
   "source": [
    "\r\n",
    "import sys\r\n",
    "import os\r\n",
    "import json\r\n",
    "import time\r\n",
    "\r\n",
    "import boto3\r\n",
    "import pandas as pd\r\n",
    "\r\n",
    "import util"
   ],
   "outputs": [],
   "metadata": {}
  },
  {
   "cell_type": "code",
   "execution_count": null,
   "source": [
    "# Retrieve  shared variables from the earlier notebooks.\r\n",
    "%store -r"
   ],
   "outputs": [],
   "metadata": {}
  },
  {
   "cell_type": "code",
   "execution_count": null,
   "source": [
    "# %store -r\r\n",
    "\r\n",
    "# # Print your choices from first notebook\r\n",
    "# print(f\"item_id = {item_id}\")\r\n",
    "# print(f\"project = {PROJECT}\")\r\n",
    "# print(f\"data_version = {DATA_VERSION}\")\r\n",
    "# print(f\"Forecast length = {FORECAST_LENGTH}\")\r\n",
    "# print(f\"Dataset frequency = {DATASET_FREQUENCY}\")\r\n",
    "# print(f\"Timestamp format = {TIMESTAMP_FORMAT}\")\r\n",
    "# print(f\"dataset_group_arn = {dataset_group_arn}\")\r\n",
    "# print(f\"role_arn = {role_arn}\")\r\n",
    "# %store -r bucket_name\r\n",
    "# print(f\"bucket_name = {bucket_name}\")\r\n",
    "# %store -r region\r\n",
    "# print(f\"region = {region}\")"
   ],
   "outputs": [],
   "metadata": {}
  },
  {
   "cell_type": "code",
   "execution_count": null,
   "source": [
    "# connect to the Forecast APIs via the SDK.\r\n",
    "\r\n",
    "ession = boto3.Session(region_name= region) \r\n",
    "forecast = session.client(service_name= 'forecast') \r\n",
    "forecastquery = session.client(service_name= 'forecastquery')"
   ],
   "outputs": [],
   "metadata": {}
  },
  {
   "cell_type": "code",
   "execution_count": null,
   "source": [
    "\r\n",
    "# Define the Things to Cleanup\r\n",
    "# In the previous notebooks several variables were stored at the end of each.  Now that they have been retrieved above, the cells below will delete the items that were created one at a time until all items that were created have been removed. \r\n",
    "# For a parent resource, all its child resources can be deleted using `delete_resource_tree` -- see AWS DeleteResourceTree API:\r\n",
    "# https://docs.aws.amazon.com/forecast/latest/dg/API_DeleteResourceTree.html\r\n",
    "# Bellow cell uses `delete_resource_tree` to delete the predictor resource and all its child resources such as Forecasts, PredictorBacktestExportJobs and ForecastExportJobs."
   ],
   "outputs": [],
   "metadata": {}
  },
  {
   "cell_type": "code",
   "execution_count": null,
   "source": [
    "# Delete predictor and all its child resources such as Forecasts, PredictorBacktestExportJobs and ForecastExportJobs \r\n",
    "util.wait_till_delete(lambda: forecast.delete_resource_tree(ResourceArn = predictor_arn_deep_ar))"
   ],
   "outputs": [],
   "metadata": {}
  },
  {
   "cell_type": "code",
   "execution_count": null,
   "source": [
    "# Delete the target time series dataset import job\r\n",
    "util.wait_till_delete(lambda: forecast.delete_dataset_import_job(DatasetImportJobArn=ts_dataset_import_job_arn))"
   ],
   "outputs": [],
   "metadata": {}
  },
  {
   "cell_type": "code",
   "execution_count": null,
   "source": [
    "# Delete the target time series dataset\r\n",
    "util.wait_till_delete(lambda: forecast.delete_dataset(DatasetArn=ts_dataset_arn))"
   ],
   "outputs": [],
   "metadata": {}
  },
  {
   "cell_type": "code",
   "execution_count": null,
   "source": [
    "# Delete dataset group\r\n",
    "util.wait_till_delete(lambda: forecast.delete_dataset_group(DatasetGroupArn=dataset_group_arn))"
   ],
   "outputs": [],
   "metadata": {}
  },
  {
   "cell_type": "code",
   "execution_count": null,
   "source": [
    "# Delete the files in S3\r\n",
    "boto3.Session().resource('s3').Bucket(bucket_name).Object(key).delete()"
   ],
   "outputs": [],
   "metadata": {}
  },
  {
   "cell_type": "code",
   "execution_count": null,
   "source": [
    "# IAM Role and Policy Cleanup\r\n",
    "# Remove the policies that were attached to a role and then to delete it. \r\n",
    "\r\n",
    "\r\n",
    "util.delete_iam_role( role_arn )\r\n"
   ],
   "outputs": [],
   "metadata": {}
  },
  {
   "cell_type": "markdown",
   "source": [
    "## TODO:\n"
   ],
   "metadata": {}
  },
  {
   "cell_type": "markdown",
   "source": [
    "## References\r\n",
    "\r\n",
    "\r\n",
    "1. Magnus Erik Hvass Pedersen, [TensorFlow-Tutorials](http://www.hvass-labs.org/)\r\n",
    "/ [GitHub repo](https://github.com/Hvass-Labs/TensorFlow-Tutorials) / [Videos on YouTube](https://www.youtube.com/playlist?list=PL9Hr9sNUjfsmEu1ZniY0XpHSzl5uihcXZ)\r\n",
    "\r\n",
    "2. Ognian Dantchev, Multivariate Time Series Forecasting with Keras and TensorFlow, [GitHub repo](https://github.com/ogniandantchev/dilated_causal_cnn_time_series)\r\n",
    "\r\n",
    "3. Amazon Forecast resources, [AWS website](https://aws.amazon.com/forecast/resources/)\r\n",
    "\r\n",
    "4. Time Series Forecasting Principles with Amazon Forecast, [Technical Guide](https://d1.awsstatic.com/whitepapers/time-series-forecasting-principles-amazon-forecast.pdf)\r\n",
    "\r\n",
    "5. AWS Samples-- Amazon Forecast Samples [GitHub repo](https://github.com/aws-samples/amazon-forecast-samples)\r\n",
    "\r\n",
    "\r\n"
   ],
   "metadata": {}
  },
  {
   "cell_type": "markdown",
   "source": [],
   "metadata": {}
  }
 ]
}